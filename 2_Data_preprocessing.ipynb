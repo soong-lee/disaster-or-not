{
 "cells": [
  {
   "cell_type": "code",
   "execution_count": 299,
   "id": "c3c4effd-3d0a-4670-a611-7751a9b0c00f",
   "metadata": {},
   "outputs": [],
   "source": [
    "import pandas as pd\n",
    "import numpy as np\n",
    "from random import shuffle\n",
    "import random\n",
    "import matplotlib.pyplot as plt\n",
    "#import seaborn as sns\n",
    "#from wordcloud import WordCloud, STOPWORDS \n",
    "import re\n",
    "import os\n",
    "from tqdm.notebook import tqdm\n",
    "from collections import Counter\n",
    "import warnings\n",
    "import nltk\n",
    "warnings.filterwarnings('ignore')\n",
    "plt.style.use('ggplot')\n",
    "import pickle"
   ]
  },
  {
   "cell_type": "code",
   "execution_count": 300,
   "id": "d43503d5-4e98-4b22-b22d-df5f5740a71a",
   "metadata": {},
   "outputs": [],
   "source": [
    "import torch\n",
    "from torch.utils.data import TensorDataset, DataLoader\n",
    "from torch import nn"
   ]
  },
  {
   "cell_type": "code",
   "execution_count": 301,
   "id": "5e10b0dc-8f81-4dfe-9b12-2a05bc07e651",
   "metadata": {},
   "outputs": [],
   "source": [
    "from sklearn.model_selection import train_test_split\n",
    "from nltk.corpus import stopwords\n",
    "# nltk.download('punkt')\n",
    "# nltk.download('stopwords')\n",
    "# nltk.download('punkt_tab')"
   ]
  },
  {
   "cell_type": "code",
   "execution_count": 302,
   "id": "efc10990-ac58-48de-b117-c9fb581c3014",
   "metadata": {},
   "outputs": [],
   "source": [
    "#!pip install nltk==3.8.1 > /dev/null"
   ]
  },
  {
   "cell_type": "code",
   "execution_count": 303,
   "id": "3e868080-f87f-4610-80b8-eac8372b48e7",
   "metadata": {},
   "outputs": [
    {
     "data": {
      "text/html": [
       "<div>\n",
       "<style scoped>\n",
       "    .dataframe tbody tr th:only-of-type {\n",
       "        vertical-align: middle;\n",
       "    }\n",
       "\n",
       "    .dataframe tbody tr th {\n",
       "        vertical-align: top;\n",
       "    }\n",
       "\n",
       "    .dataframe thead th {\n",
       "        text-align: right;\n",
       "    }\n",
       "</style>\n",
       "<table border=\"1\" class=\"dataframe\">\n",
       "  <thead>\n",
       "    <tr style=\"text-align: right;\">\n",
       "      <th></th>\n",
       "      <th>id</th>\n",
       "      <th>keyword</th>\n",
       "      <th>location</th>\n",
       "      <th>text</th>\n",
       "      <th>target</th>\n",
       "    </tr>\n",
       "  </thead>\n",
       "  <tbody>\n",
       "    <tr>\n",
       "      <th>0</th>\n",
       "      <td>1</td>\n",
       "      <td>NaN</td>\n",
       "      <td>NaN</td>\n",
       "      <td>Our Deeds are the Reason of this #earthquake M...</td>\n",
       "      <td>1</td>\n",
       "    </tr>\n",
       "    <tr>\n",
       "      <th>1</th>\n",
       "      <td>4</td>\n",
       "      <td>NaN</td>\n",
       "      <td>NaN</td>\n",
       "      <td>Forest fire near La Ronge Sask. Canada</td>\n",
       "      <td>1</td>\n",
       "    </tr>\n",
       "    <tr>\n",
       "      <th>2</th>\n",
       "      <td>5</td>\n",
       "      <td>NaN</td>\n",
       "      <td>NaN</td>\n",
       "      <td>All residents asked to 'shelter in place' are ...</td>\n",
       "      <td>1</td>\n",
       "    </tr>\n",
       "    <tr>\n",
       "      <th>3</th>\n",
       "      <td>6</td>\n",
       "      <td>NaN</td>\n",
       "      <td>NaN</td>\n",
       "      <td>13,000 people receive #wildfires evacuation or...</td>\n",
       "      <td>1</td>\n",
       "    </tr>\n",
       "    <tr>\n",
       "      <th>4</th>\n",
       "      <td>7</td>\n",
       "      <td>NaN</td>\n",
       "      <td>NaN</td>\n",
       "      <td>Just got sent this photo from Ruby #Alaska as ...</td>\n",
       "      <td>1</td>\n",
       "    </tr>\n",
       "  </tbody>\n",
       "</table>\n",
       "</div>"
      ],
      "text/plain": [
       "   id keyword location                                               text  \\\n",
       "0   1     NaN      NaN  Our Deeds are the Reason of this #earthquake M...   \n",
       "1   4     NaN      NaN             Forest fire near La Ronge Sask. Canada   \n",
       "2   5     NaN      NaN  All residents asked to 'shelter in place' are ...   \n",
       "3   6     NaN      NaN  13,000 people receive #wildfires evacuation or...   \n",
       "4   7     NaN      NaN  Just got sent this photo from Ruby #Alaska as ...   \n",
       "\n",
       "   target  \n",
       "0       1  \n",
       "1       1  \n",
       "2       1  \n",
       "3       1  \n",
       "4       1  "
      ]
     },
     "execution_count": 303,
     "metadata": {},
     "output_type": "execute_result"
    }
   ],
   "source": [
    "file_name = 'data/train.csv'\n",
    "df = pd.read_csv(file_name)\n",
    "df.head()"
   ]
  },
  {
   "cell_type": "code",
   "execution_count": 304,
   "id": "b7865a3c-4594-4835-aa2c-d3768618110c",
   "metadata": {},
   "outputs": [
    {
     "name": "stdout",
     "output_type": "stream",
     "text": [
      "<class 'pandas.core.frame.DataFrame'>\n",
      "RangeIndex: 7613 entries, 0 to 7612\n",
      "Data columns (total 5 columns):\n",
      " #   Column    Non-Null Count  Dtype \n",
      "---  ------    --------------  ----- \n",
      " 0   id        7613 non-null   int64 \n",
      " 1   keyword   7552 non-null   object\n",
      " 2   location  5080 non-null   object\n",
      " 3   text      7613 non-null   object\n",
      " 4   target    7613 non-null   int64 \n",
      "dtypes: int64(2), object(3)\n",
      "memory usage: 297.5+ KB\n"
     ]
    }
   ],
   "source": [
    "df.info()"
   ]
  },
  {
   "cell_type": "markdown",
   "id": "9786f3cf-86ac-4245-b3e2-3ff24de24a09",
   "metadata": {},
   "source": [
    "### Class imbalance"
   ]
  },
  {
   "cell_type": "code",
   "execution_count": 305,
   "id": "7b12b5ac-44a9-4da2-adf9-80ed4d983985",
   "metadata": {},
   "outputs": [
    {
     "data": {
      "text/plain": [
       "target\n",
       "0    4342\n",
       "1    3271\n",
       "Name: count, dtype: int64"
      ]
     },
     "execution_count": 305,
     "metadata": {},
     "output_type": "execute_result"
    }
   ],
   "source": [
    "df['target'].value_counts()"
   ]
  },
  {
   "cell_type": "markdown",
   "id": "f8b4414a-08b0-4cef-b546-384d356f11df",
   "metadata": {},
   "source": [
    "There is a class imbalance. Let's oversample the disaster class."
   ]
  },
  {
   "cell_type": "code",
   "execution_count": 306,
   "id": "081148fc-12d9-4b74-adef-2e335e54a2e8",
   "metadata": {},
   "outputs": [],
   "source": [
    "add_pos = 4342 - 3271"
   ]
  },
  {
   "cell_type": "code",
   "execution_count": 307,
   "id": "0a36ce45-9132-48bf-b8c5-e73e568f462d",
   "metadata": {},
   "outputs": [],
   "source": [
    "pos_df = df[df[\"target\"] == 1]"
   ]
  },
  {
   "cell_type": "code",
   "execution_count": 308,
   "id": "714ed66d-d5e1-41b6-aebb-d3554893c87c",
   "metadata": {},
   "outputs": [],
   "source": [
    "neg_df = df[df[\"target\"] == 0]"
   ]
  },
  {
   "cell_type": "code",
   "execution_count": 309,
   "id": "700b71c1-63dc-430d-9ba6-a78914c776b8",
   "metadata": {},
   "outputs": [],
   "source": [
    "pos_df.reset_index(inplace=True)"
   ]
  },
  {
   "cell_type": "code",
   "execution_count": 310,
   "id": "e5edf46d-201b-4ed7-adf7-15a31582b545",
   "metadata": {},
   "outputs": [],
   "source": [
    "pos_add_indices = np.random.choice(pos_df.index, add_pos, replace=False)"
   ]
  },
  {
   "cell_type": "code",
   "execution_count": 311,
   "id": "a4ed25a6-f5b7-4bfc-84f1-6ba5959637d8",
   "metadata": {},
   "outputs": [],
   "source": [
    "pos_add_df = pos_df.iloc[pos_add_indices]"
   ]
  },
  {
   "cell_type": "code",
   "execution_count": 312,
   "id": "15e1085c-f79b-44c8-a446-b74185d729af",
   "metadata": {},
   "outputs": [],
   "source": [
    "pos_oversampled = pd.concat([pos_df, pos_add_df], ignore_index=True)"
   ]
  },
  {
   "cell_type": "code",
   "execution_count": 313,
   "id": "c0f56e24-97c5-429a-8fd3-821c108c04f8",
   "metadata": {},
   "outputs": [],
   "source": [
    "balanced_df = pd.concat([neg_df, pos_oversampled], ignore_index=True)"
   ]
  },
  {
   "cell_type": "code",
   "execution_count": 314,
   "id": "68eeaa4e-dc3d-48fc-89be-5091a7c31dc4",
   "metadata": {},
   "outputs": [
    {
     "data": {
      "text/plain": [
       "target\n",
       "0    4342\n",
       "1    4342\n",
       "Name: count, dtype: int64"
      ]
     },
     "execution_count": 314,
     "metadata": {},
     "output_type": "execute_result"
    }
   ],
   "source": [
    "balanced_df['target'].value_counts()"
   ]
  },
  {
   "cell_type": "markdown",
   "id": "11902e09-9ff9-4059-a668-40ad61bd440e",
   "metadata": {},
   "source": [
    "### Data preprocessing"
   ]
  },
  {
   "cell_type": "code",
   "execution_count": 315,
   "id": "44011501-07a1-43dd-bb7d-ff659f9a8138",
   "metadata": {},
   "outputs": [],
   "source": [
    "balanced_df.fillna('NA', inplace=True)"
   ]
  },
  {
   "cell_type": "code",
   "execution_count": 316,
   "id": "f5e97464-4d80-435b-bc3f-ff701f72197d",
   "metadata": {},
   "outputs": [],
   "source": [
    "# Concatenate keyword, location, and text and name the new column as tweet\n",
    "# Rather than just using the text for prediction, we include keywords and locations just in case they might help."
   ]
  },
  {
   "cell_type": "code",
   "execution_count": 317,
   "id": "7476a9cb-28dd-4d5e-8b83-5d728469b41c",
   "metadata": {},
   "outputs": [],
   "source": [
    "balanced_df['tweet'] = balanced_df['keyword'] + ' ' + balanced_df['location'] + ' ' + balanced_df['text']"
   ]
  },
  {
   "cell_type": "code",
   "execution_count": 318,
   "id": "56154b47-a973-492e-bdf5-499e3707cadf",
   "metadata": {},
   "outputs": [
    {
     "data": {
      "text/html": [
       "<div>\n",
       "<style scoped>\n",
       "    .dataframe tbody tr th:only-of-type {\n",
       "        vertical-align: middle;\n",
       "    }\n",
       "\n",
       "    .dataframe tbody tr th {\n",
       "        vertical-align: top;\n",
       "    }\n",
       "\n",
       "    .dataframe thead th {\n",
       "        text-align: right;\n",
       "    }\n",
       "</style>\n",
       "<table border=\"1\" class=\"dataframe\">\n",
       "  <thead>\n",
       "    <tr style=\"text-align: right;\">\n",
       "      <th></th>\n",
       "      <th>id</th>\n",
       "      <th>keyword</th>\n",
       "      <th>location</th>\n",
       "      <th>text</th>\n",
       "      <th>target</th>\n",
       "      <th>index</th>\n",
       "      <th>tweet</th>\n",
       "    </tr>\n",
       "  </thead>\n",
       "  <tbody>\n",
       "    <tr>\n",
       "      <th>0</th>\n",
       "      <td>23</td>\n",
       "      <td>NA</td>\n",
       "      <td>NA</td>\n",
       "      <td>What's up man?</td>\n",
       "      <td>0</td>\n",
       "      <td>NA</td>\n",
       "      <td>NA NA What's up man?</td>\n",
       "    </tr>\n",
       "    <tr>\n",
       "      <th>1</th>\n",
       "      <td>24</td>\n",
       "      <td>NA</td>\n",
       "      <td>NA</td>\n",
       "      <td>I love fruits</td>\n",
       "      <td>0</td>\n",
       "      <td>NA</td>\n",
       "      <td>NA NA I love fruits</td>\n",
       "    </tr>\n",
       "    <tr>\n",
       "      <th>2</th>\n",
       "      <td>25</td>\n",
       "      <td>NA</td>\n",
       "      <td>NA</td>\n",
       "      <td>Summer is lovely</td>\n",
       "      <td>0</td>\n",
       "      <td>NA</td>\n",
       "      <td>NA NA Summer is lovely</td>\n",
       "    </tr>\n",
       "    <tr>\n",
       "      <th>3</th>\n",
       "      <td>26</td>\n",
       "      <td>NA</td>\n",
       "      <td>NA</td>\n",
       "      <td>My car is so fast</td>\n",
       "      <td>0</td>\n",
       "      <td>NA</td>\n",
       "      <td>NA NA My car is so fast</td>\n",
       "    </tr>\n",
       "    <tr>\n",
       "      <th>4</th>\n",
       "      <td>28</td>\n",
       "      <td>NA</td>\n",
       "      <td>NA</td>\n",
       "      <td>What a goooooooaaaaaal!!!!!!</td>\n",
       "      <td>0</td>\n",
       "      <td>NA</td>\n",
       "      <td>NA NA What a goooooooaaaaaal!!!!!!</td>\n",
       "    </tr>\n",
       "  </tbody>\n",
       "</table>\n",
       "</div>"
      ],
      "text/plain": [
       "   id keyword location                          text  target index  \\\n",
       "0  23      NA       NA                What's up man?       0    NA   \n",
       "1  24      NA       NA                 I love fruits       0    NA   \n",
       "2  25      NA       NA              Summer is lovely       0    NA   \n",
       "3  26      NA       NA             My car is so fast       0    NA   \n",
       "4  28      NA       NA  What a goooooooaaaaaal!!!!!!       0    NA   \n",
       "\n",
       "                                tweet  \n",
       "0                NA NA What's up man?  \n",
       "1                 NA NA I love fruits  \n",
       "2              NA NA Summer is lovely  \n",
       "3             NA NA My car is so fast  \n",
       "4  NA NA What a goooooooaaaaaal!!!!!!  "
      ]
     },
     "execution_count": 318,
     "metadata": {},
     "output_type": "execute_result"
    }
   ],
   "source": [
    "balanced_df.head()"
   ]
  },
  {
   "cell_type": "code",
   "execution_count": 319,
   "id": "d22d9a16-7a0c-44c2-b73c-eff211adda4b",
   "metadata": {},
   "outputs": [
    {
     "data": {
      "text/plain": [
       "8684"
      ]
     },
     "execution_count": 319,
     "metadata": {},
     "output_type": "execute_result"
    }
   ],
   "source": [
    "len(balanced_df)"
   ]
  },
  {
   "cell_type": "code",
   "execution_count": 320,
   "id": "705ca337-e5cc-46ad-808b-f1600759cead",
   "metadata": {},
   "outputs": [],
   "source": [
    "# splitting data; train 60%, valid 20%, and test 20%"
   ]
  },
  {
   "cell_type": "code",
   "execution_count": 321,
   "id": "d327fce9-9239-4c60-a5d6-f3cc654548b3",
   "metadata": {},
   "outputs": [],
   "source": [
    "X = balanced_df['tweet'].values\n",
    "y = balanced_df['target'].values\n",
    "X_tr, X_test, y_tr, y_test = train_test_split(X, y, test_size=0.20, random_state=38)\n",
    "X_train, X_valid, y_train, y_valid = train_test_split(X_tr, y_tr, test_size=0.25, random_state=28)"
   ]
  },
  {
   "cell_type": "code",
   "execution_count": 322,
   "id": "ebcbae8a-2614-4b5b-b095-8994eaa9792b",
   "metadata": {},
   "outputs": [
    {
     "name": "stdout",
     "output_type": "stream",
     "text": [
      "train data shape: (5210,)\n",
      "test data shape: (1737,)\n"
     ]
    }
   ],
   "source": [
    "print(f'train data shape: {X_train.shape}')\n",
    "print(f'test data shape: {X_test.shape}')"
   ]
  },
  {
   "cell_type": "code",
   "execution_count": 323,
   "id": "9c384e2f-3653-4380-834d-c2ea1dea3718",
   "metadata": {},
   "outputs": [],
   "source": [
    "def tokenize_tweets(tweets):\n",
    "    tokenized_tweets = []\n",
    "    for tweet in tweets:\n",
    "        tweet = re.sub(r'[,!?;-]', '.', tweet) #  Punctuations are replaced by \".\"\n",
    "        #tweet_lowered = tweet.lower()\n",
    "        tokenized_tweet = nltk.word_tokenize(tweet) \n",
    "        #  Lower case and drop non-alphabetical tokens\n",
    "        tokenized_tweet = [ch.lower() for ch in tokenized_tweet if ch.isalpha() or ch == '.']  \n",
    "        tokenized_tweets.append(tokenized_tweet)\n",
    "    return tokenized_tweets"
   ]
  },
  {
   "cell_type": "code",
   "execution_count": 324,
   "id": "4bb34719-5079-4b27-8ca0-df93c7cf1f6e",
   "metadata": {},
   "outputs": [],
   "source": [
    "def stopwords_tweets(tokenized_tweets):\n",
    "    english_stopwords = stopwords.words('english')\n",
    "    tokens_wo_stopwords_tweets = []\n",
    "    for tokenized_tweet in tokenized_tweets:\n",
    "        tokens_wo_stopwords = [t for t in tokenized_tweet if t not in english_stopwords] \n",
    "        tokens_wo_stopwords_tweets.append(tokens_wo_stopwords) \n",
    "    return tokens_wo_stopwords_tweets"
   ]
  },
  {
   "cell_type": "markdown",
   "id": "0055391a-0ea2-42e6-8e06-c9920704de39",
   "metadata": {},
   "source": [
    "### Create word corpus using X_train"
   ]
  },
  {
   "cell_type": "code",
   "execution_count": 325,
   "id": "d18fb0bd-95c5-413b-ba71-80a3696e2f3e",
   "metadata": {},
   "outputs": [],
   "source": [
    "tokenized_tweets_train = tokenize_tweets(X_train)"
   ]
  },
  {
   "cell_type": "code",
   "execution_count": 326,
   "id": "6323a0eb-1e84-4f66-9800-4d48c3dbb526",
   "metadata": {},
   "outputs": [],
   "source": [
    "tokenized_tweets_train_wo_stopwords = stopwords_tweets(tokenized_tweets_train)"
   ]
  },
  {
   "cell_type": "code",
   "execution_count": 327,
   "id": "3429212b-0810-46cb-9d35-6cccd8c5f043",
   "metadata": {},
   "outputs": [],
   "source": [
    "def flatten(xss):\n",
    "    return [x for xs in xss for x in xs]"
   ]
  },
  {
   "cell_type": "code",
   "execution_count": 328,
   "id": "c1899589-158d-4610-99f0-91a7aed485ae",
   "metadata": {},
   "outputs": [],
   "source": [
    "word_list = flatten(tokenized_tweets_train_wo_stopwords)"
   ]
  },
  {
   "cell_type": "code",
   "execution_count": 329,
   "id": "9d49f5dc-2918-4a59-970b-e01ab098ec31",
   "metadata": {},
   "outputs": [],
   "source": [
    "vocab_count = Counter(word_list)"
   ]
  },
  {
   "cell_type": "code",
   "execution_count": 330,
   "id": "577922e3-9104-42cb-937b-49706623f726",
   "metadata": {},
   "outputs": [
    {
     "data": {
      "text/plain": [
       "collections.Counter"
      ]
     },
     "execution_count": 330,
     "metadata": {},
     "output_type": "execute_result"
    }
   ],
   "source": [
    "type(vocab_count)"
   ]
  },
  {
   "cell_type": "markdown",
   "id": "13007540-2bba-41cc-9e09-ca3948122d1b",
   "metadata": {},
   "source": [
    "**Let's use 1000 most popular words for the initial analysis**"
   ]
  },
  {
   "cell_type": "code",
   "execution_count": 331,
   "id": "6083fde8-14b7-46de-b158-d58fe0960486",
   "metadata": {},
   "outputs": [],
   "source": [
    "vocab =  sorted(vocab_count,key=vocab_count.get,reverse=True)[:1000]"
   ]
  },
  {
   "cell_type": "code",
   "execution_count": 332,
   "id": "f5468be2-8141-4af8-a1a2-920ffbe63150",
   "metadata": {},
   "outputs": [],
   "source": [
    "vocab_dict = {w:i+1 for i,w in enumerate(vocab)}"
   ]
  },
  {
   "cell_type": "markdown",
   "id": "2b5b6b91-86e3-4841-a8a4-8812e90be0ae",
   "metadata": {},
   "source": [
    "### Tweet length statistics in train, valid, and test sets"
   ]
  },
  {
   "cell_type": "code",
   "execution_count": 333,
   "id": "5b1105ba-2a6b-4e2c-be8b-fbbb73e7e6ac",
   "metadata": {},
   "outputs": [],
   "source": [
    "tokenized_tweets_valid = tokenize_tweets(X_valid)\n",
    "tokenized_tweets_valid_wo_stopwords = stopwords_tweets(tokenized_tweets_valid)"
   ]
  },
  {
   "cell_type": "code",
   "execution_count": 334,
   "id": "1a972e1c-ec15-4552-8a72-d39e1e7d2248",
   "metadata": {},
   "outputs": [],
   "source": [
    "tokenized_tweets_test = tokenize_tweets(X_test)\n",
    "tokenized_tweets_test_wo_stopwords = stopwords_tweets(tokenized_tweets_test)"
   ]
  },
  {
   "cell_type": "code",
   "execution_count": 335,
   "id": "af0faf6a-5485-4390-997a-6c4b5469ab89",
   "metadata": {},
   "outputs": [
    {
     "data": {
      "image/png": "[encoded data removed]",
      "text/plain": [
       "<Figure size 640x480 with 1 Axes>"
      ]
     },
     "metadata": {},
     "output_type": "display_data"
    }
   ],
   "source": [
    "# Tweet lengths (train, valid, and test data combined)\n",
    "plt.hist([len(t) for t in tokenized_tweets_train_wo_stopwords + tokenized_tweets_valid_wo_stopwords + \n",
    "          tokenized_tweets_test_wo_stopwords], bins=13);\n",
    "plt.ylabel('Count')\n",
    "plt.xlabel('Tweet length');"
   ]
  },
  {
   "cell_type": "code",
   "execution_count": 336,
   "id": "2ca91027-e1ce-4691-bc3d-d6f7e029c04a",
   "metadata": {},
   "outputs": [
    {
     "data": {
      "text/plain": [
       "28"
      ]
     },
     "execution_count": 336,
     "metadata": {},
     "output_type": "execute_result"
    }
   ],
   "source": [
    "# maximum length of tweets \n",
    "max_len = max(len(w) for w in tokenized_tweets_train_wo_stopwords + tokenized_tweets_valid_wo_stopwords + tokenized_tweets_test_wo_stopwords)\n",
    "max_len"
   ]
  },
  {
   "cell_type": "code",
   "execution_count": 337,
   "id": "00702a73-12cd-414a-b8d9-eb910a3e9956",
   "metadata": {},
   "outputs": [],
   "source": [
    "# Using this max_len, let's build padded vectors"
   ]
  },
  {
   "cell_type": "code",
   "execution_count": 338,
   "id": "22c450d8-8502-41d4-a660-4c49b27529de",
   "metadata": {},
   "outputs": [],
   "source": [
    "# Here the argument tweet is a tokenized tweet without stop words.\n",
    "def padded_vector(tweet, vocab_dict, max_len):\n",
    "    int_tweet = []\n",
    "    for word in tweet:\n",
    "        if word in vocab_dict:\n",
    "            int_tweet.append(vocab_dict[word])  \n",
    "\n",
    "    padded_vector = int_tweet + [0] * max(0, max_len - len(int_tweet))\n",
    "    return padded_vector"
   ]
  },
  {
   "cell_type": "code",
   "execution_count": 339,
   "id": "ee278ac5-a207-45ef-854d-b83ba54916ee",
   "metadata": {},
   "outputs": [],
   "source": [
    "# Here tweet in the argument is a tokenized tweet without stop words.\n",
    "def padded_vector(tweet, vocab_dict, max_len):\n",
    "    int_tweet = []\n",
    "    if len(tweet) <= max_len:\n",
    "        for word in tweet:\n",
    "            if word in vocab_dict:\n",
    "                int_tweet.append(vocab_dict[word])  \n",
    "    else:  # tweet is longer than maximum length \n",
    "        for word in tweet[:max_len]:  # truncate the tweet\n",
    "            if word in vocab_dict:\n",
    "                int_tweet.append(vocab_dict[word])             \n",
    "    padded_vector = int_tweet + [0] * max(0, max_len - len(int_tweet))\n",
    "    return padded_vector"
   ]
  },
  {
   "cell_type": "code",
   "execution_count": 340,
   "id": "b6f73a78-6623-4c73-965c-b68803fa4e7d",
   "metadata": {},
   "outputs": [],
   "source": [
    "x_train_padded = [padded_vector(x, vocab_dict, max_len) for x in tokenized_tweets_train_wo_stopwords]\n",
    "x_valid_padded = [padded_vector(x, vocab_dict, max_len) for x in tokenized_tweets_valid_wo_stopwords]"
   ]
  },
  {
   "cell_type": "code",
   "execution_count": 341,
   "id": "f3c29e24-db06-4906-b815-719dff5a6433",
   "metadata": {},
   "outputs": [
    {
     "name": "stdout",
     "output_type": "stream",
     "text": [
      " The length of train padded: 5210\n",
      " The length of valid padded: 1737\n"
     ]
    }
   ],
   "source": [
    "print(f\" The length of train padded: {len(x_train_padded)}\")\n",
    "print(f\" The length of valid padded: {len(x_valid_padded)}\")"
   ]
  },
  {
   "cell_type": "markdown",
   "id": "1cdd187d-e65d-4a3d-a296-97d1302d2d31",
   "metadata": {},
   "source": [
    "### Create final dataset for training"
   ]
  },
  {
   "cell_type": "code",
   "execution_count": 342,
   "id": "eb6fd479-6faf-41c4-90a7-b44c0a7f3166",
   "metadata": {},
   "outputs": [],
   "source": [
    "batch_size = 50"
   ]
  },
  {
   "cell_type": "code",
   "execution_count": 343,
   "id": "1e437937-6983-49fc-b84b-2e1f20f7c131",
   "metadata": {},
   "outputs": [],
   "source": [
    "x_train_padded = np.array(x_train_padded)\n",
    "x_valid_padded = np.array(x_valid_padded)"
   ]
  },
  {
   "cell_type": "code",
   "execution_count": 344,
   "id": "45275457-0ad2-433d-aa64-b209b4c2fc14",
   "metadata": {},
   "outputs": [],
   "source": [
    "# Create tensor datasets\n",
    "train_data = TensorDataset(torch.from_numpy(x_train_padded), torch.from_numpy(y_train))\n",
    "valid_data = TensorDataset(torch.from_numpy(x_valid_padded), torch.from_numpy(y_valid))"
   ]
  },
  {
   "cell_type": "code",
   "execution_count": 345,
   "id": "a107b845-6564-4be5-a433-a009df92cb50",
   "metadata": {},
   "outputs": [],
   "source": [
    "# Set up dataloader with shuffle on\n",
    "train_dataloader = DataLoader(train_data, batch_size=batch_size, shuffle=True, drop_last=True)\n",
    "valid_dataloader = DataLoader(valid_data, batch_size=batch_size, shuffle=True, drop_last=True)"
   ]
  },
  {
   "cell_type": "code",
   "execution_count": 346,
   "id": "d011f444-5556-464e-a0ad-e3d30163adf4",
   "metadata": {},
   "outputs": [
    {
     "name": "stdout",
     "output_type": "stream",
     "text": [
      "Feature batch shape: torch.Size([50, 28])\n",
      "Labels batch shape: torch.Size([50])\n"
     ]
    }
   ],
   "source": [
    "# Display tweet and label.\n",
    "train_features, train_labels = next(iter(train_dataloader))\n",
    "print(f\"Feature batch shape: {train_features.size()}\")\n",
    "print(f\"Labels batch shape: {train_labels.size()}\")"
   ]
  },
  {
   "cell_type": "code",
   "execution_count": 347,
   "id": "45570a08-bf7f-4b74-9fc8-31e2a566c368",
   "metadata": {},
   "outputs": [
    {
     "name": "stdout",
     "output_type": "stream",
     "text": [
      "Tweet: tensor([3, 1, 1, 1, 0, 0, 0, 0, 0, 0, 0, 0, 0, 0, 0, 0, 0, 0, 0, 0, 0, 0, 0, 0,\n",
      "        0, 0, 0, 0])\n",
      "Label: 1\n"
     ]
    }
   ],
   "source": [
    "tweet_0 = train_features[0].squeeze()\n",
    "label_0 = train_labels[0]\n",
    "print(f\"Tweet: {tweet_0}\\nLabel: {label_0}\")"
   ]
  },
  {
   "cell_type": "code",
   "execution_count": null,
   "id": "23ba543a-e944-4407-a920-66d727412508",
   "metadata": {},
   "outputs": [],
   "source": []
  }
 ],
 "metadata": {
  "kernelspec": {
   "display_name": "skorch-310",
   "language": "python",
   "name": "skorch-310"
  },
  "language_info": {
   "codemirror_mode": {
    "name": "ipython",
    "version": 3
   },
   "file_extension": ".py",
   "mimetype": "text/x-python",
   "name": "python",
   "nbconvert_exporter": "python",
   "pygments_lexer": "ipython3",
   "version": "3.10.16"
  }
 },
 "nbformat": 4,
 "nbformat_minor": 5
}
