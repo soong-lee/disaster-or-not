{
 "cells": [
  {
   "cell_type": "markdown",
   "metadata": {},
   "source": [
    "## Disaster or Not Tweet Analysis Using BERT pre-trained With PyTorch"
   ]
  },
  {
   "cell_type": "markdown",
   "metadata": {},
   "source": [
    "References:  \n",
    "\n",
    "Mehdi Mashayekhi:  \n",
    "https://github.com/mehdimashayekhi  \n",
    "Transfer-Learning-in-Natural-Language-Processing  \n",
    "  \n",
    "https://www.kaggle.com/code/akshat0007/bert-for-sequence-classification  \n",
    "  \n",
    "https://mccormickml.com/2019/07/22/BERT-fine-tuning/  "
   ]
  },
  {
   "cell_type": "code",
   "execution_count": 30,
   "metadata": {
    "colab": {
     "base_uri": "https://localhost:8080/",
     "height": 306
    },
    "colab_type": "code",
    "executionInfo": {
     "elapsed": 1375,
     "status": "ok",
     "timestamp": 1588407323044,
     "user": {
      "displayName": "Jie Lyu",
      "photoUrl": "https://lh3.googleusercontent.com/a-/AOh14GgQrhIVVXzQU_KkxCjkumcX5SB8g_Uk4VndpwJ4=s64",
      "userId": "10977586217171880674"
     },
     "user_tz": 240
    },
    "id": "RFmK2-3nbQ7r",
    "outputId": "46ab0966-42bf-4f3f-981c-c2e45ca9c11b"
   },
   "outputs": [
    {
     "name": "stdout",
     "output_type": "stream",
     "text": [
      "Thu Dec 26 18:20:42 2024       \n",
      "+-----------------------------------------------------------------------------------------+\n",
      "| NVIDIA-SMI 550.127.05             Driver Version: 550.127.05     CUDA Version: 12.5     |\n",
      "|-----------------------------------------+------------------------+----------------------+\n",
      "| GPU  Name                 Persistence-M | Bus-Id          Disp.A | Volatile Uncorr. ECC |\n",
      "| Fan  Temp   Perf          Pwr:Usage/Cap |           Memory-Usage | GPU-Util  Compute M. |\n",
      "|                                         |                        |               MIG M. |\n",
      "|=========================================+========================+======================|\n",
      "|   0  Tesla T4                       On  |   00000000:00:1E.0 Off |                    0 |\n",
      "| N/A   27C    P0             25W /   70W |     867MiB /  15360MiB |      0%      Default |\n",
      "|                                         |                        |                  N/A |\n",
      "+-----------------------------------------+------------------------+----------------------+\n",
      "                                                                                         \n",
      "+-----------------------------------------------------------------------------------------+\n",
      "| Processes:                                                                              |\n",
      "|  GPU   GI   CI        PID   Type   Process name                              GPU Memory |\n",
      "|        ID   ID                                                               Usage      |\n",
      "|=========================================================================================|\n",
      "+-----------------------------------------------------------------------------------------+\n"
     ]
    }
   ],
   "source": [
    "!nvidia-smi"
   ]
  },
  {
   "cell_type": "code",
   "execution_count": 31,
   "metadata": {
    "cellView": "form",
    "colab": {
     "base_uri": "https://localhost:8080/",
     "height": 88
    },
    "colab_type": "code",
    "executionInfo": {
     "elapsed": 3450,
     "status": "ok",
     "timestamp": 1588407325134,
     "user": {
      "displayName": "Jie Lyu",
      "photoUrl": "https://lh3.googleusercontent.com/a-/AOh14GgQrhIVVXzQU_KkxCjkumcX5SB8g_Uk4VndpwJ4=s64",
      "userId": "10977586217171880674"
     },
     "user_tz": 240
    },
    "id": "lrygyvc2SXoT",
    "outputId": "1ccb40b8-dc1e-4d76-d73a-bbb939bd0e78"
   },
   "outputs": [],
   "source": [
    "import torch\n",
    "from torch.utils.data import TensorDataset, random_split\n",
    "from torch.utils.data import DataLoader, RandomSampler,SequentialSampler\n",
    "from sklearn.model_selection import train_test_split\n",
    "\n",
    "import tensorflow as tf\n",
    "from keras.preprocessing.sequence import pad_sequences\n",
    "\n",
    "from transformers import BertTokenizer\n",
    "from transformers import BertForSequenceClassification, AdamW, BertConfig\n",
    "from transformers import get_linear_schedule_with_warmup\n",
    "from transformers import BertModel, AutoConfig\n",
    "\n",
    "import pandas as pd\n",
    "import numpy as np\n",
    "import nltk\n",
    "import re\n",
    "import time\n",
    "import datetime\n",
    "import random\n",
    "import matplotlib.pyplot as plt\n",
    "%matplotlib inline"
   ]
  },
  {
   "cell_type": "code",
   "execution_count": 32,
   "metadata": {
    "cellView": "both",
    "colab": {
     "base_uri": "https://localhost:8080/",
     "height": 68
    },
    "colab_type": "code",
    "executionInfo": {
     "elapsed": 6807,
     "status": "ok",
     "timestamp": 1588407328499,
     "user": {
      "displayName": "Jie Lyu",
      "photoUrl": "https://lh3.googleusercontent.com/a-/AOh14GgQrhIVVXzQU_KkxCjkumcX5SB8g_Uk4VndpwJ4=s64",
      "userId": "10977586217171880674"
     },
     "user_tz": 240
    },
    "id": "rVH1XoxLXsky",
    "outputId": "8984d2f5-7a5b-4098-f50e-55d551ec55a8"
   },
   "outputs": [
    {
     "name": "stdout",
     "output_type": "stream",
     "text": [
      "There are 1 GPU(s) available.\n",
      "We will use the GPU: Tesla T4\n"
     ]
    }
   ],
   "source": [
    "if torch.cuda.is_available():    \n",
    "\n",
    "    device = torch.device(\"cuda\")\n",
    "\n",
    "    print('There are %d GPU(s) available.' % torch.cuda.device_count())\n",
    "    print('We will use the GPU:', torch.cuda.get_device_name(0))\n",
    "\n",
    "else:\n",
    "    print('No GPU available, using the CPU instead.')\n",
    "    device = torch.device(\"cpu\")"
   ]
  },
  {
   "cell_type": "markdown",
   "metadata": {
    "colab_type": "text",
    "id": "guw6ZNtaswKc"
   },
   "source": [
    "### Data preprocessing"
   ]
  },
  {
   "cell_type": "code",
   "execution_count": 33,
   "metadata": {},
   "outputs": [],
   "source": [
    "df = pd.read_csv('data/train.csv')"
   ]
  },
  {
   "cell_type": "code",
   "execution_count": 34,
   "metadata": {
    "colab": {
     "base_uri": "https://localhost:8080/",
     "height": 74
    },
    "colab_type": "code",
    "id": "3UfxtwQy3axu",
    "outputId": "9d5de975-5efc-44bd-9519-f499a51e153f"
   },
   "outputs": [
    {
     "data": {
      "text/plain": [
       "(7613, 5)"
      ]
     },
     "execution_count": 34,
     "metadata": {},
     "output_type": "execute_result"
    }
   ],
   "source": [
    "df.shape"
   ]
  },
  {
   "cell_type": "code",
   "execution_count": 35,
   "metadata": {
    "colab": {
     "base_uri": "https://localhost:8080/",
     "height": 241
    },
    "colab_type": "code",
    "id": "AQfTaYDo42zu",
    "outputId": "96276637-fb63-44ec-f297-85cd9f48e896"
   },
   "outputs": [
    {
     "data": {
      "text/html": [
       "<div>\n",
       "<style scoped>\n",
       "    .dataframe tbody tr th:only-of-type {\n",
       "        vertical-align: middle;\n",
       "    }\n",
       "\n",
       "    .dataframe tbody tr th {\n",
       "        vertical-align: top;\n",
       "    }\n",
       "\n",
       "    .dataframe thead th {\n",
       "        text-align: right;\n",
       "    }\n",
       "</style>\n",
       "<table border=\"1\" class=\"dataframe\">\n",
       "  <thead>\n",
       "    <tr style=\"text-align: right;\">\n",
       "      <th></th>\n",
       "      <th>id</th>\n",
       "      <th>keyword</th>\n",
       "      <th>location</th>\n",
       "      <th>text</th>\n",
       "      <th>target</th>\n",
       "    </tr>\n",
       "  </thead>\n",
       "  <tbody>\n",
       "    <tr>\n",
       "      <th>3897</th>\n",
       "      <td>5541</td>\n",
       "      <td>flattened</td>\n",
       "      <td>Northampton, MA</td>\n",
       "      <td>@JimMozel puck=flattened ball lol</td>\n",
       "      <td>0</td>\n",
       "    </tr>\n",
       "    <tr>\n",
       "      <th>872</th>\n",
       "      <td>1263</td>\n",
       "      <td>blood</td>\n",
       "      <td>NaN</td>\n",
       "      <td>Man . somebody gotta stop Sbee dude too fuckin...</td>\n",
       "      <td>0</td>\n",
       "    </tr>\n",
       "    <tr>\n",
       "      <th>2122</th>\n",
       "      <td>3049</td>\n",
       "      <td>death</td>\n",
       "      <td>?s????ss? a?????</td>\n",
       "      <td>Ari's hints and snippets will be the death of me.</td>\n",
       "      <td>0</td>\n",
       "    </tr>\n",
       "    <tr>\n",
       "      <th>6334</th>\n",
       "      <td>9055</td>\n",
       "      <td>structural%20failure</td>\n",
       "      <td>NaN</td>\n",
       "      <td>@SirTitan45  Mega mood swing on a 24 hr schedu...</td>\n",
       "      <td>0</td>\n",
       "    </tr>\n",
       "    <tr>\n",
       "      <th>4423</th>\n",
       "      <td>6294</td>\n",
       "      <td>hostage</td>\n",
       "      <td>NaN</td>\n",
       "      <td>I always tell my mom to bring me food or I wil...</td>\n",
       "      <td>0</td>\n",
       "    </tr>\n",
       "  </tbody>\n",
       "</table>\n",
       "</div>"
      ],
      "text/plain": [
       "        id               keyword          location  \\\n",
       "3897  5541             flattened   Northampton, MA   \n",
       "872   1263                 blood               NaN   \n",
       "2122  3049                 death  ?s????ss? a?????   \n",
       "6334  9055  structural%20failure               NaN   \n",
       "4423  6294               hostage               NaN   \n",
       "\n",
       "                                                   text  target  \n",
       "3897                  @JimMozel puck=flattened ball lol       0  \n",
       "872   Man . somebody gotta stop Sbee dude too fuckin...       0  \n",
       "2122  Ari's hints and snippets will be the death of me.       0  \n",
       "6334  @SirTitan45  Mega mood swing on a 24 hr schedu...       0  \n",
       "4423  I always tell my mom to bring me food or I wil...       0  "
      ]
     },
     "execution_count": 35,
     "metadata": {},
     "output_type": "execute_result"
    }
   ],
   "source": [
    "df.sample(5)"
   ]
  },
  {
   "cell_type": "code",
   "execution_count": 36,
   "metadata": {},
   "outputs": [],
   "source": [
    "def pos_oversampling(df):\n",
    "    add_pos = 4342 - 3271\n",
    "    pos_df = df[df[\"target\"] == 1]\n",
    "    neg_df = df[df[\"target\"] == 0]\n",
    "    pos_df.reset_index(inplace=True)\n",
    "    pos_add_indices = np.random.choice(pos_df.index, add_pos, replace=False)\n",
    "    pos_add_df = pos_df.iloc[pos_add_indices]\n",
    "    pos_oversampled = pd.concat([pos_df, pos_add_df], ignore_index=True)\n",
    "    balanced_df = pd.concat([neg_df, pos_oversampled], ignore_index=True)\n",
    "    return balanced_df"
   ]
  },
  {
   "cell_type": "code",
   "execution_count": 37,
   "metadata": {},
   "outputs": [],
   "source": [
    "# Due to the imbalance of the dataset, oversample the positive tweets\n",
    "balanced_df = pos_oversampling(df)"
   ]
  },
  {
   "cell_type": "code",
   "execution_count": 38,
   "metadata": {},
   "outputs": [
    {
     "name": "stderr",
     "output_type": "stream",
     "text": [
      "/tmp/ipykernel_1351/1728943000.py:2: FutureWarning: Setting an item of incompatible dtype is deprecated and will raise an error in a future version of pandas. Value 'NA' has dtype incompatible with float64, please explicitly cast to a compatible dtype first.\n",
      "  balanced_df.fillna('NA', inplace=True)\n"
     ]
    }
   ],
   "source": [
    "# replace empty cells with a strin \"NA\"\n",
    "balanced_df.fillna('NA', inplace=True)"
   ]
  },
  {
   "cell_type": "code",
   "execution_count": 39,
   "metadata": {},
   "outputs": [],
   "source": [
    "# Concatenate keyword, location, and text and name the new column as tweet.\n",
    "balanced_df['tweet'] = balanced_df['keyword'] + ' ' + balanced_df['location'] + ' ' + balanced_df['text']"
   ]
  },
  {
   "cell_type": "markdown",
   "metadata": {
    "colab_type": "text",
    "id": "NNpEePGBPDC7"
   },
   "source": [
    "### Create sentence and label lists\n",
    "\n",
    "To use BERT, We need to add special tokens at the beginning and end of each sentence for BERT to work properly"
   ]
  },
  {
   "cell_type": "code",
   "execution_count": 40,
   "metadata": {
    "colab": {},
    "colab_type": "code",
    "id": "GuE5BqICAne2"
   },
   "outputs": [],
   "source": [
    "sentences = balanced_df.text.values\n",
    "sentences = [\"[CLS] \" + sentence + \" [SEP]\" for sentence in sentences]\n",
    "labels = balanced_df.target.values"
   ]
  },
  {
   "cell_type": "markdown",
   "metadata": {
    "colab_type": "text",
    "id": "ex5O1eV-Pfct"
   },
   "source": [
    "## Inputs"
   ]
  },
  {
   "cell_type": "markdown",
   "metadata": {
    "colab_type": "text",
    "id": "BTREubVNFiz4"
   },
   "source": [
    "Next, import the BERT tokenizer, used to convert our text into tokens that correspond to BERT's vocabulary."
   ]
  },
  {
   "cell_type": "code",
   "execution_count": 41,
   "metadata": {
    "colab": {
     "base_uri": "https://localhost:8080/",
     "height": 134
    },
    "colab_type": "code",
    "id": "Z474sSC6oe7A",
    "outputId": "bb7bbe2c-53fd-4125-fc17-748625bbedef"
   },
   "outputs": [
    {
     "name": "stderr",
     "output_type": "stream",
     "text": [
      "/opt/conda/lib/python3.11/site-packages/huggingface_hub/file_download.py:797: FutureWarning: `resume_download` is deprecated and will be removed in version 1.0.0. Downloads always resume when possible. If you want to force a new download, use `force_download=True`.\n",
      "  warnings.warn(\n"
     ]
    },
    {
     "name": "stdout",
     "output_type": "stream",
     "text": [
      "Tokenize the first sentence:\n",
      "['[CLS]', 'what', \"'\", 's', 'up', 'man', '?', '[SEP]']\n"
     ]
    }
   ],
   "source": [
    "tokenizer = BertTokenizer.from_pretrained('bert-base-uncased', do_lower_case=True)\n",
    "\n",
    "tokenized_texts = [tokenizer.tokenize(sent) for sent in sentences]\n",
    "print (\"Tokenize the first sentence:\")\n",
    "print (tokenized_texts[0])"
   ]
  },
  {
   "cell_type": "code",
   "execution_count": 42,
   "metadata": {
    "colab": {},
    "colab_type": "code",
    "id": "Cp9BPRd1tMIo"
   },
   "outputs": [],
   "source": [
    "# Set the maximum sequence length. The longest sequence in our training set is 28.\n",
    "MAX_LEN = 28"
   ]
  },
  {
   "cell_type": "code",
   "execution_count": 43,
   "metadata": {
    "colab": {},
    "colab_type": "code",
    "id": "mFhowDMohU4H"
   },
   "outputs": [],
   "source": [
    "# Use the BERT tokenizer to convert the tokens to their index numbers in the BERT vocabulary\n",
    "input_ids = [tokenizer.convert_tokens_to_ids(x) for x in tokenized_texts]"
   ]
  },
  {
   "cell_type": "code",
   "execution_count": 44,
   "metadata": {
    "colab": {
     "base_uri": "https://localhost:8080/",
     "height": 74
    },
    "colab_type": "code",
    "id": "7ajDxuX0AFGL",
    "outputId": "1ce3fc63-bc14-4f30-e225-86015c12be50"
   },
   "outputs": [
    {
     "name": "stdout",
     "output_type": "stream",
     "text": [
      "[101, 2054, 1005, 1055, 2039, 2158, 1029, 102]\n"
     ]
    }
   ],
   "source": [
    "print(input_ids[0])"
   ]
  },
  {
   "cell_type": "code",
   "execution_count": 45,
   "metadata": {
    "colab": {},
    "colab_type": "code",
    "id": "kDs-MYtYH8sL"
   },
   "outputs": [],
   "source": [
    "input_ids = pad_sequences(input_ids, maxlen=MAX_LEN, dtype=\"long\", truncating=\"post\", padding=\"post\")"
   ]
  },
  {
   "cell_type": "code",
   "execution_count": 46,
   "metadata": {
    "colab": {
     "base_uri": "https://localhost:8080/",
     "height": 240
    },
    "colab_type": "code",
    "id": "YQrlzgLsAYpm",
    "outputId": "e6722268-a5a7-484d-a69d-b4005d24e663"
   },
   "outputs": [
    {
     "name": "stdout",
     "output_type": "stream",
     "text": [
      "[ 101 2054 1005 1055 2039 2158 1029  102    0    0    0    0    0    0\n",
      "    0    0    0    0    0    0    0    0    0    0    0    0    0    0]\n"
     ]
    }
   ],
   "source": [
    "print(input_ids[0])"
   ]
  },
  {
   "cell_type": "markdown",
   "metadata": {
    "colab_type": "text",
    "id": "KhGulL1pExCT"
   },
   "source": [
    "Create the attention masks "
   ]
  },
  {
   "cell_type": "code",
   "execution_count": 47,
   "metadata": {
    "colab": {},
    "colab_type": "code",
    "id": "cDoC24LeEv3N"
   },
   "outputs": [],
   "source": [
    "# Create attention masks\n",
    "attention_masks = []\n",
    "\n",
    "# Create a mask of 1s for each token followed by 0s for padding\n",
    "for seq in input_ids:\n",
    "  seq_mask = [float(i>0) for i in seq]\n",
    "  attention_masks.append(seq_mask)"
   ]
  },
  {
   "cell_type": "code",
   "execution_count": 48,
   "metadata": {
    "colab": {
     "base_uri": "https://localhost:8080/",
     "height": 74
    },
    "colab_type": "code",
    "id": "jqdk_4oGBIxo",
    "outputId": "80c4b24a-2439-4b00-c14d-cdc1489419e1"
   },
   "outputs": [
    {
     "name": "stdout",
     "output_type": "stream",
     "text": [
      "[1.0, 1.0, 1.0, 1.0, 1.0, 1.0, 1.0, 1.0, 0.0, 0.0, 0.0, 0.0, 0.0, 0.0, 0.0, 0.0, 0.0, 0.0, 0.0, 0.0, 0.0, 0.0, 0.0, 0.0, 0.0, 0.0, 0.0, 0.0]\n"
     ]
    }
   ],
   "source": [
    "print(attention_masks[0])"
   ]
  },
  {
   "cell_type": "markdown",
   "metadata": {
    "colab_type": "text",
    "id": "Xjc8M4PePh8c"
   },
   "source": [
    "Use train_test_split to split our data into train and validation sets for training"
   ]
  },
  {
   "cell_type": "code",
   "execution_count": 49,
   "metadata": {},
   "outputs": [],
   "source": [
    "tr_inputs, test_inputs, tr_labels, test_labels = train_test_split(input_ids, labels, test_size=0.20, random_state=38)\n",
    "train_inputs, validation_inputs, train_labels, validation_labels = train_test_split(tr_inputs, tr_labels, test_size=0.25, random_state=28)\n",
    "tr_masks, test_masks, _, _ = train_test_split(attention_masks, input_ids, test_size=0.20, random_state=38)\n",
    "train_masks, validation_masks, _, _ = train_test_split(tr_masks, tr_inputs, test_size=0.25, random_state=28)"
   ]
  },
  {
   "cell_type": "code",
   "execution_count": 50,
   "metadata": {
    "colab": {},
    "colab_type": "code",
    "id": "jw5K2A5Ko1RF"
   },
   "outputs": [],
   "source": [
    "# Convert all of our data into torch tensors, the required type for our pytorch model\n",
    "\n",
    "train_inputs = torch.tensor(train_inputs)\n",
    "validation_inputs = torch.tensor(validation_inputs)\n",
    "train_labels = torch.tensor(train_labels)\n",
    "validation_labels = torch.tensor(validation_labels)\n",
    "train_masks = torch.tensor(train_masks)\n",
    "validation_masks = torch.tensor(validation_masks)"
   ]
  },
  {
   "cell_type": "code",
   "execution_count": 51,
   "metadata": {
    "colab": {
     "base_uri": "https://localhost:8080/",
     "height": 74
    },
    "colab_type": "code",
    "id": "jjcyu-3VDXpV",
    "outputId": "a0011126-4c23-42a5-dfae-a897a485d684"
   },
   "outputs": [
    {
     "name": "stdout",
     "output_type": "stream",
     "text": [
      "torch.Size([5210, 28])\n"
     ]
    }
   ],
   "source": [
    "print(train_inputs.shape)"
   ]
  },
  {
   "cell_type": "markdown",
   "metadata": {
    "colab_type": "text",
    "id": "lhfEVSZePocX"
   },
   "source": [
    "Select a batch size for training. \n",
    "\n",
    "For fine-tuning BERT on a specific task, the authors recommend a batch size of 16 or 32. Create an iterator of our data with torch DataLoader. "
   ]
  },
  {
   "cell_type": "code",
   "execution_count": 52,
   "metadata": {
    "colab": {},
    "colab_type": "code",
    "id": "GEgLpFVlo1Z-"
   },
   "outputs": [],
   "source": [
    "batch_size = 16\n",
    "\n",
    "# Training\n",
    "train_data = TensorDataset(train_inputs, train_masks, train_labels)\n",
    "train_sampler = RandomSampler(train_data)\n",
    "train_dataloader = DataLoader(train_data, sampler=train_sampler, batch_size=batch_size)\n",
    "\n",
    "# Validation\n",
    "validation_data = TensorDataset(validation_inputs, validation_masks, validation_labels)\n",
    "validation_sampler = SequentialSampler(validation_data)\n",
    "validation_dataloader = DataLoader(validation_data, sampler=validation_sampler, batch_size=batch_size)\n"
   ]
  },
  {
   "cell_type": "markdown",
   "metadata": {},
   "source": [
    "### Model set up"
   ]
  },
  {
   "cell_type": "code",
   "execution_count": 53,
   "metadata": {
    "cellView": "both",
    "colab": {},
    "colab_type": "code",
    "id": "gzf1kLx7oGdh"
   },
   "outputs": [],
   "source": [
    "## Hyper-parameters\n",
    "\n",
    "epochs = 20\n",
    "lr = 2e-5\n",
    "eps = 1e-8\n",
    "num_labels = 2\n",
    "random_seed = 38"
   ]
  },
  {
   "cell_type": "markdown",
   "metadata": {},
   "source": [
    "#### Hyperparameter change in BERT pre-trained model"
   ]
  },
  {
   "cell_type": "markdown",
   "metadata": {},
   "source": [
    "configuration lets us to modify the pre-trained BERT hyperparameters as follows."
   ]
  },
  {
   "cell_type": "code",
   "execution_count": 54,
   "metadata": {},
   "outputs": [],
   "source": [
    "configuration = AutoConfig.from_pretrained('bert-base-uncased')"
   ]
  },
  {
   "cell_type": "code",
   "execution_count": 55,
   "metadata": {},
   "outputs": [],
   "source": [
    "configuration.hidden_dropout_prob = 0.4\n",
    "configuration.attention_probs_dropout_prob = 0.4"
   ]
  },
  {
   "cell_type": "code",
   "execution_count": 56,
   "metadata": {},
   "outputs": [
    {
     "name": "stderr",
     "output_type": "stream",
     "text": [
      "Some weights of BertForSequenceClassification were not initialized from the model checkpoint at bert-base-uncased and are newly initialized: ['classifier.bias', 'classifier.weight']\n",
      "You should probably TRAIN this model on a down-stream task to be able to use it for predictions and inference.\n"
     ]
    },
    {
     "data": {
      "text/plain": [
       "BertForSequenceClassification(\n",
       "  (bert): BertModel(\n",
       "    (embeddings): BertEmbeddings(\n",
       "      (word_embeddings): Embedding(30522, 768, padding_idx=0)\n",
       "      (position_embeddings): Embedding(512, 768)\n",
       "      (token_type_embeddings): Embedding(2, 768)\n",
       "      (LayerNorm): LayerNorm((768,), eps=1e-12, elementwise_affine=True)\n",
       "      (dropout): Dropout(p=0.4, inplace=False)\n",
       "    )\n",
       "    (encoder): BertEncoder(\n",
       "      (layer): ModuleList(\n",
       "        (0-11): 12 x BertLayer(\n",
       "          (attention): BertAttention(\n",
       "            (self): BertSelfAttention(\n",
       "              (query): Linear(in_features=768, out_features=768, bias=True)\n",
       "              (key): Linear(in_features=768, out_features=768, bias=True)\n",
       "              (value): Linear(in_features=768, out_features=768, bias=True)\n",
       "              (dropout): Dropout(p=0.4, inplace=False)\n",
       "            )\n",
       "            (output): BertSelfOutput(\n",
       "              (dense): Linear(in_features=768, out_features=768, bias=True)\n",
       "              (LayerNorm): LayerNorm((768,), eps=1e-12, elementwise_affine=True)\n",
       "              (dropout): Dropout(p=0.4, inplace=False)\n",
       "            )\n",
       "          )\n",
       "          (intermediate): BertIntermediate(\n",
       "            (dense): Linear(in_features=768, out_features=3072, bias=True)\n",
       "            (intermediate_act_fn): GELUActivation()\n",
       "          )\n",
       "          (output): BertOutput(\n",
       "            (dense): Linear(in_features=3072, out_features=768, bias=True)\n",
       "            (LayerNorm): LayerNorm((768,), eps=1e-12, elementwise_affine=True)\n",
       "            (dropout): Dropout(p=0.4, inplace=False)\n",
       "          )\n",
       "        )\n",
       "      )\n",
       "    )\n",
       "    (pooler): BertPooler(\n",
       "      (dense): Linear(in_features=768, out_features=768, bias=True)\n",
       "      (activation): Tanh()\n",
       "    )\n",
       "  )\n",
       "  (dropout): Dropout(p=0.4, inplace=False)\n",
       "  (classifier): Linear(in_features=768, out_features=2, bias=True)\n",
       ")"
      ]
     },
     "execution_count": 56,
     "metadata": {},
     "output_type": "execute_result"
    }
   ],
   "source": [
    "model = BertForSequenceClassification.from_pretrained(pretrained_model_name_or_path = 'bert-base-uncased', \n",
    "config = configuration)\n",
    "model.cuda()"
   ]
  },
  {
   "cell_type": "code",
   "execution_count": 57,
   "metadata": {
    "cellView": "form",
    "colab": {},
    "colab_type": "code",
    "id": "joEaUKaS5U2n"
   },
   "outputs": [],
   "source": [
    "def flat_accuracy(preds, labels):\n",
    "    '''calculate the accuracy of our predictions vs labels\n",
    "    '''\n",
    "    pred_flat = np.argmax(preds, axis=1).flatten()\n",
    "    labels_flat = labels.flatten()\n",
    "    return np.sum(pred_flat == labels_flat) / len(labels_flat)"
   ]
  },
  {
   "cell_type": "code",
   "execution_count": 58,
   "metadata": {
    "cellView": "form",
    "colab": {},
    "colab_type": "code",
    "id": "97kRYkBCYiGd"
   },
   "outputs": [
    {
     "name": "stderr",
     "output_type": "stream",
     "text": [
      "/opt/conda/lib/python3.11/site-packages/transformers/optimization.py:429: FutureWarning: This implementation of AdamW is deprecated and will be removed in a future version. Use the PyTorch implementation torch.optim.AdamW instead, or set `no_deprecation_warning=True` to disable this warning\n",
      "  warnings.warn(\n"
     ]
    },
    {
     "name": "stdout",
     "output_type": "stream",
     "text": [
      "======== Epoch 1 / 20 ========\n",
      "Training - Loss: 0.603283559617821 | Accuracy: 0.673427914110429\n",
      "Validation - Loss: 0.511019053399016 | Accuracy: 0.768858307849134\n",
      "======== Epoch 2 / 20 ========\n",
      "Training - Loss: 0.498659485185439 | Accuracy: 0.778604294478528\n",
      "Validation - Loss: 0.617016085175746 | Accuracy: 0.749808868501529\n",
      "======== Epoch 3 / 20 ========\n",
      "Training - Loss: 0.451217008606057 | Accuracy: 0.799693251533742\n",
      "Validation - Loss: 0.590527715862071 | Accuracy: 0.767010703363914\n",
      "======== Epoch 4 / 20 ========\n",
      "Training - Loss: 0.411420871509365 | Accuracy: 0.823351226993865\n",
      "Validation - Loss: 0.526994136085204 | Accuracy: 0.794979612640163\n",
      "======== Epoch 5 / 20 ========\n",
      "Training - Loss: 0.390592470925096 | Accuracy: 0.835007668711656\n",
      "Validation - Loss: 0.646999199729447 | Accuracy: 0.773764016309888\n",
      "======== Epoch 6 / 20 ========\n",
      "Training - Loss: 0.371599590280122 | Accuracy: 0.846319018404908\n",
      "Validation - Loss: 0.590402379221872 | Accuracy: 0.764143730886850\n",
      "======== Epoch 7 / 20 ========\n",
      "Training - Loss: 0.340108185663728 | Accuracy: 0.859815950920245\n",
      "Validation - Loss: 0.604454915184493 | Accuracy: 0.792112640163099\n",
      "======== Epoch 8 / 20 ========\n",
      "Training - Loss: 0.330507198817160 | Accuracy: 0.871050613496932\n",
      "Validation - Loss: 0.644849400010404 | Accuracy: 0.759556574923547\n",
      "======== Epoch 9 / 20 ========\n",
      "Training - Loss: 0.301003624233731 | Accuracy: 0.884662576687116\n",
      "Validation - Loss: 0.694292919419774 | Accuracy: 0.770451070336391\n",
      "======== Epoch 10 / 20 ========\n",
      "Training - Loss: 0.296918206956763 | Accuracy: 0.882093558282209\n",
      "Validation - Loss: 0.776438942623385 | Accuracy: 0.753950050968400\n",
      "======== Epoch 11 / 20 ========\n",
      "Training - Loss: 0.279418092049613 | Accuracy: 0.895207055214724\n",
      "Validation - Loss: 0.760378827400711 | Accuracy: 0.779497961264016\n",
      "======== Epoch 12 / 20 ========\n",
      "Training - Loss: 0.273134548251340 | Accuracy: 0.897507668711656\n",
      "Validation - Loss: 0.614721918307723 | Accuracy: 0.806447502548420\n",
      "======== Epoch 13 / 20 ========\n",
      "Training - Loss: 0.260393674411108 | Accuracy: 0.906441717791411\n",
      "Validation - Loss: 0.662694618891959 | Accuracy: 0.780772171253823\n",
      "======== Epoch 14 / 20 ========\n",
      "Training - Loss: 0.250971186243318 | Accuracy: 0.906441717791411\n",
      "Validation - Loss: 0.799059123048610 | Accuracy: 0.748789500509684\n",
      "======== Epoch 15 / 20 ========\n",
      "Training - Loss: 0.238279182998109 | Accuracy: 0.913228527607362\n",
      "Validation - Loss: 0.803734793088510 | Accuracy: 0.776185015290520\n",
      "======== Epoch 16 / 20 ========\n",
      "Training - Loss: 0.239643839587875 | Accuracy: 0.912461656441718\n",
      "Validation - Loss: 0.775283616232694 | Accuracy: 0.790392456676860\n",
      "======== Epoch 17 / 20 ========\n",
      "Training - Loss: 0.235427746189290 | Accuracy: 0.917254601226994\n",
      "Validation - Loss: 0.817464095309650 | Accuracy: 0.775611620795107\n",
      "======== Epoch 18 / 20 ========\n",
      "Training - Loss: 0.222178327182502 | Accuracy: 0.923696319018405\n",
      "Validation - Loss: 0.908777092489491 | Accuracy: 0.751656472986748\n",
      "======== Epoch 19 / 20 ========\n",
      "Training - Loss: 0.220758388650266 | Accuracy: 0.923197852760736\n",
      "Validation - Loss: 0.805104326456785 | Accuracy: 0.776885830784913\n",
      "======== Epoch 20 / 20 ========\n",
      "Training - Loss: 0.216851770683575 | Accuracy: 0.925115030674847\n",
      "Validation - Loss: 0.835821398508248 | Accuracy: 0.773445463812436\n",
      "\n",
      "Training complete!\n"
     ]
    }
   ],
   "source": [
    "optimizer = AdamW(model.parameters(),\n",
    "                  lr = lr,\n",
    "                  eps = eps)\n",
    "\n",
    "scheduler = get_linear_schedule_with_warmup(optimizer,\n",
    "                                            num_warmup_steps=0,\n",
    "                                            num_training_steps=len(train_dataloader) * epochs)\n",
    "\n",
    "random.seed(random_seed)\n",
    "np.random.seed(random_seed)\n",
    "torch.manual_seed(random_seed)\n",
    "torch.cuda.manual_seed_all(random_seed)\n",
    "\n",
    "training_loss_acc = {}\n",
    "validation_loss_acc = {}\n",
    "# For each epoch...\n",
    "for epoch_i in range(0, epochs):\n",
    "    \n",
    "    # ========================================\n",
    "    #               Training\n",
    "    # ========================================\n",
    "    \n",
    "    # Perform one full pass over the training set.\n",
    "\n",
    "    print('======== Epoch {:} / {:} ========'.format(epoch_i + 1, epochs))\n",
    "\n",
    "    # Reset the total loss for this epoch.\n",
    "    total_train_loss = 0\n",
    "    total_train_accuracy = 0\n",
    "\n",
    "    # Put the model into training mode. \n",
    "    model.train()\n",
    "    \n",
    "    # For each batch of training data...\n",
    "    for step, batch in enumerate(train_dataloader):\n",
    "\n",
    "        # `batch` contains three pytorch tensors:\n",
    "        #   [0]: input ids \n",
    "        #   [1]: attention masks\n",
    "        #   [2]: labels \n",
    "        b_input_ids = batch[0].to(device)\n",
    "        b_input_mask = batch[1].to(device)\n",
    "        b_labels = batch[2].to(device)\n",
    "\n",
    "        # Clear any previously calculated gradients before performing a backward pass. \n",
    "        model.zero_grad()        \n",
    "\n",
    "        # Perform a forward pass \n",
    "        outputs = model(b_input_ids,\n",
    "                             token_type_ids=None, \n",
    "                             attention_mask=b_input_mask, \n",
    "                             labels=b_labels)\n",
    "        \n",
    "        loss = outputs.loss\n",
    "        logits = outputs.logits\n",
    "\n",
    "        # Accumulate the training loss over all of the batches\n",
    "        total_train_loss += loss.item()\n",
    "\n",
    "        # Move logits and labels to CPU\n",
    "        logits = logits.detach().cpu().numpy()\n",
    "        label_ids = b_labels.to('cpu').numpy()\n",
    "\n",
    "        # Calculate the accuracy for this batch of test sentences, and\n",
    "        # accumulate it over all batches.\n",
    "        total_train_accuracy += flat_accuracy(logits, label_ids)\n",
    "        \n",
    "        # Perform a backward pass to calculate the gradients.\n",
    "        loss.backward()\n",
    "\n",
    "        # Clip the norm of the gradients to 1.0.\n",
    "        # This is to help prevent the \"exploding gradients\" problem.\n",
    "        torch.nn.utils.clip_grad_norm_(model.parameters(), 1.0)\n",
    "\n",
    "        # Update parameters and take a step using the computed gradient.\n",
    "        optimizer.step()\n",
    "\n",
    "        # Update the learning rate.\n",
    "        scheduler.step()\n",
    "\n",
    "    # Calculate the average loss over all of the batches.\n",
    "    avg_train_loss = total_train_loss / len(train_dataloader)\n",
    "    # Report the final accuracy for this validation run.\n",
    "    avg_train_accuracy = total_train_accuracy / len(train_dataloader)\n",
    "\n",
    "    training_loss_acc[epoch_i] = [avg_train_loss, avg_train_accuracy]\n",
    "\n",
    "    \n",
    "    # ========================================\n",
    "    #               Validation\n",
    "    # ========================================\n",
    "    # After the completion of each training epoch, measure our performance on our validation set.\n",
    "\n",
    "    # Put the model in evaluation mode--the dropout layers behave differently during evaluation.\n",
    "    model.eval()\n",
    "\n",
    "    # Tracking variables \n",
    "    total_eval_accuracy = 0\n",
    "    total_eval_loss = 0\n",
    "\n",
    "    # Evaluate data for one epoch\n",
    "    for batch in validation_dataloader:\n",
    "\n",
    "        # `batch` contains three pytorch tensors:\n",
    "        #   [0]: input ids \n",
    "        #   [1]: attention masks\n",
    "        #   [2]: labels \n",
    "        b_input_ids = batch[0].to(device)\n",
    "        b_input_mask = batch[1].to(device)\n",
    "        b_labels = batch[2].to(device)\n",
    "        \n",
    "        # Tell pytorch not to bother with constructing the compute graph during\n",
    "        # the forward pass, since this is only needed for backprop (training).\n",
    "        with torch.no_grad():        \n",
    "\n",
    "            # Forward pass, calculate logit predictions.\n",
    "            outputs = model(b_input_ids, \n",
    "                                   token_type_ids=None, \n",
    "                                   attention_mask=b_input_mask,\n",
    "                                   labels=b_labels)\n",
    "\n",
    "            loss = outputs.loss\n",
    "            logits = outputs.logits\n",
    "            \n",
    "        # Accumulate the validation loss.\n",
    "        total_eval_loss += loss.item()\n",
    "\n",
    "        # Move logits and labels to CPU\n",
    "        logits = logits.detach().cpu().numpy()\n",
    "        label_ids = b_labels.to('cpu').numpy()\n",
    "\n",
    "        # Calculate the accuracy for this batch of test sentences, and\n",
    "        # accumulate it over all batches.\n",
    "        total_eval_accuracy += flat_accuracy(logits, label_ids)\n",
    "\n",
    "    # Report the final accuracy for this validation run.\n",
    "    avg_val_accuracy = total_eval_accuracy / len(validation_dataloader)\n",
    "\n",
    "    # Calculate the average loss over all of the batches.\n",
    "    avg_val_loss = total_eval_loss / len(validation_dataloader)\n",
    "\n",
    "    validation_loss_acc[epoch_i] = [avg_val_loss, avg_val_accuracy]\n",
    "\n",
    "    print('Training - Loss: {:.15f} | Accuracy: {:.15f}'.format(avg_train_loss, avg_train_accuracy))\n",
    "    print('Validation - Loss: {:.15f} | Accuracy: {:.15f}'.format(avg_val_loss, avg_val_accuracy))\n",
    "\n",
    "print(\"\")\n",
    "print(\"Training complete!\")"
   ]
  },
  {
   "cell_type": "markdown",
   "metadata": {},
   "source": [
    "### Model evaluation"
   ]
  },
  {
   "cell_type": "code",
   "execution_count": 59,
   "metadata": {},
   "outputs": [
    {
     "data": {
      "text/plain": [
       "{0: [0.6032835596178207, 0.6734279141104295],\n",
       " 1: [0.49865948518543884, 0.7786042944785275],\n",
       " 2: [0.4512170086060565, 0.7996932515337423],\n",
       " 3: [0.4114208715093648, 0.8233512269938651],\n",
       " 4: [0.39059247092509564, 0.8350076687116563],\n",
       " 5: [0.3715995902801218, 0.8463190184049079],\n",
       " 6: [0.3401081856637279, 0.8598159509202454],\n",
       " 7: [0.3305071988171595, 0.8710506134969325],\n",
       " 8: [0.30100362423373145, 0.8846625766871165],\n",
       " 9: [0.2969182069567632, 0.8820935582822086],\n",
       " 10: [0.2794180920496126, 0.8952070552147239],\n",
       " 11: [0.27313454825134, 0.8975076687116563],\n",
       " 12: [0.26039367441110817, 0.906441717791411],\n",
       " 13: [0.2509711862433176, 0.906441717791411],\n",
       " 14: [0.23827918299810927, 0.9132285276073618],\n",
       " 15: [0.23964383958787458, 0.9124616564417177],\n",
       " 16: [0.23542774618928966, 0.9172546012269938],\n",
       " 17: [0.2221783271825021, 0.9236963190184049],\n",
       " 18: [0.22075838865026648, 0.9231978527607362],\n",
       " 19: [0.21685177068357453, 0.9251150306748466]}"
      ]
     },
     "execution_count": 59,
     "metadata": {},
     "output_type": "execute_result"
    }
   ],
   "source": [
    "training_loss_acc"
   ]
  },
  {
   "cell_type": "code",
   "execution_count": 60,
   "metadata": {},
   "outputs": [
    {
     "data": {
      "text/plain": [
       "{0: [0.511019053399016, 0.7688583078491336],\n",
       " 1: [0.6170160851757461, 0.7498088685015291],\n",
       " 2: [0.5905277158620708, 0.7670107033639144],\n",
       " 3: [0.5269941360852041, 0.794979612640163],\n",
       " 4: [0.646999199729447, 0.7737640163098878],\n",
       " 5: [0.5904023792218724, 0.7641437308868502],\n",
       " 6: [0.6044549151844935, 0.7921126401630988],\n",
       " 7: [0.6448494000104043, 0.7595565749235474],\n",
       " 8: [0.6942929194197742, 0.7704510703363915],\n",
       " 9: [0.7764389426233845, 0.7539500509683996],\n",
       " 10: [0.7603788274007106, 0.7794979612640163],\n",
       " 11: [0.6147219183077233, 0.8064475025484199],\n",
       " 12: [0.6626946188919588, 0.7807721712538227],\n",
       " 13: [0.79905912304861, 0.748789500509684],\n",
       " 14: [0.8037347930885099, 0.77618501529052],\n",
       " 15: [0.7752836162326943, 0.7903924566768603],\n",
       " 16: [0.8174640953096501, 0.775611620795107],\n",
       " 17: [0.9087770924894908, 0.7516564729867482],\n",
       " 18: [0.8051043264567852, 0.7768858307849134],\n",
       " 19: [0.835821398508248, 0.7734454638124363]}"
      ]
     },
     "execution_count": 60,
     "metadata": {},
     "output_type": "execute_result"
    }
   ],
   "source": [
    "validation_loss_acc"
   ]
  },
  {
   "cell_type": "code",
   "execution_count": 61,
   "metadata": {},
   "outputs": [],
   "source": [
    "# epoch vs training accuracy\n",
    "epoch_tr_acc = [v[1] for k, v in training_loss_acc.items()]"
   ]
  },
  {
   "cell_type": "code",
   "execution_count": 62,
   "metadata": {},
   "outputs": [],
   "source": [
    "# epoch vs validation accuracy\n",
    "epoch_vl_acc = [v[1] for k, v in validation_loss_acc.items()]"
   ]
  },
  {
   "cell_type": "code",
   "execution_count": 63,
   "metadata": {},
   "outputs": [],
   "source": [
    "# epoch vs training loss\n",
    "epoch_tr_loss = [v[0] for k, v in training_loss_acc.items()]"
   ]
  },
  {
   "cell_type": "code",
   "execution_count": 64,
   "metadata": {},
   "outputs": [],
   "source": [
    "# epoch vs validation loss\n",
    "epoch_vl_loss = [v[0] for k, v in validation_loss_acc.items()]"
   ]
  },
  {
   "cell_type": "code",
   "execution_count": 65,
   "metadata": {},
   "outputs": [
    {
     "data": {
      "image/png": "[encoded data removed]",
      "text/plain": [
       "<Figure size 1500x500 with 2 Axes>"
      ]
     },
     "metadata": {},
     "output_type": "display_data"
    }
   ],
   "source": [
    "fig = plt.figure(figsize = (15, 5))\n",
    "plt.subplot(1, 2, 1)\n",
    "plt.plot(epoch_tr_acc, label='Train Acc')\n",
    "plt.plot(epoch_vl_acc, label='Validation Acc')\n",
    "plt.title(\"Accuracy\", fontsize=15)\n",
    "plt.xlabel('Epoch')\n",
    "plt.xlim(-2, 21)\n",
    "plt.legend()\n",
    "plt.grid()\n",
    "   \n",
    "plt.subplot(1, 2, 2)\n",
    "plt.plot(epoch_tr_loss, label='Train loss')\n",
    "plt.plot(epoch_vl_loss, label='Validation loss')\n",
    "plt.title(\"Loss\", fontsize=15)\n",
    "plt.xlabel('Epoch')\n",
    "plt.xlim(-2, 21)\n",
    "plt.legend()\n",
    "plt.grid()\n",
    "\n",
    "plt.show()"
   ]
  }
 ],
 "metadata": {
  "accelerator": "GPU",
  "colab": {
   "authorship_tag": "ABX9TyPJEKPnEsYB5UGNO7SysVmG",
   "collapsed_sections": [],
   "name": "bert.ipynb",
   "provenance": []
  },
  "kernelspec": {
   "display_name": "Python 3 (ipykernel)",
   "language": "python",
   "name": "python3"
  },
  "language_info": {
   "codemirror_mode": {
    "name": "ipython",
    "version": 3
   },
   "file_extension": ".py",
   "mimetype": "text/x-python",
   "name": "python",
   "nbconvert_exporter": "python",
   "pygments_lexer": "ipython3",
   "version": "3.11.11"
  }
 },
 "nbformat": 4,
 "nbformat_minor": 4
}
