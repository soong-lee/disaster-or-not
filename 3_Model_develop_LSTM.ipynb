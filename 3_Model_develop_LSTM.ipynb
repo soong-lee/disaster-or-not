{
 "cells": [
  {
   "cell_type": "markdown",
   "id": "9847574a-8310-431d-a8b2-9a3a960d2ced",
   "metadata": {},
   "source": [
    "## Disaster or Not Tweet Analysis Using LSTM With PyTorch"
   ]
  },
  {
   "cell_type": "markdown",
   "id": "7bc644cd-1ce9-47b4-83d0-ee6e6695dcce",
   "metadata": {},
   "source": [
    "References:  \n",
    "nbshare.io/notebooks  \n",
    "Tweet Sentiment Analysis Using LSTM With PyTorch  \n",
    "  \n",
    "datacamp.com/tutorial  \n",
    "NLP with PyTorch: A Comprehensive Guide by Moez Ali  "
   ]
  },
  {
   "cell_type": "markdown",
   "id": "27ca7ac9-8f38-479f-8970-0031db246ce9",
   "metadata": {},
   "source": [
    "### Imports and Data Loading"
   ]
  },
  {
   "cell_type": "code",
   "execution_count": 1,
   "id": "3ca343e8-6fa3-4479-8bdc-163eff301fda",
   "metadata": {},
   "outputs": [],
   "source": [
    "import torch\n",
    "import torch.nn as nn\n",
    "import torch.nn.functional as F\n",
    "from torch.utils.data import DataLoader, TensorDataset\n",
    "import numpy as np\n",
    "import pandas as pd\n",
    "import re\n",
    "from sklearn.model_selection import train_test_split\n",
    "from sklearn.metrics import accuracy_score\n",
    "import nltk\n",
    "from nltk.tokenize import word_tokenize\n",
    "from nltk.corpus import stopwords\n",
    "import matplotlib.pyplot as plt\n",
    "from collections import Counter"
   ]
  },
  {
   "cell_type": "code",
   "execution_count": 2,
   "id": "d5fac17f-a407-4d19-8ce3-cedbfeeb7d9d",
   "metadata": {},
   "outputs": [
    {
     "name": "stderr",
     "output_type": "stream",
     "text": [
      "[nltk_data] Downloading package punkt to /Users/soonglee/nltk_data...\n",
      "[nltk_data]   Package punkt is already up-to-date!\n"
     ]
    },
    {
     "data": {
      "text/plain": [
       "True"
      ]
     },
     "execution_count": 2,
     "metadata": {},
     "output_type": "execute_result"
    }
   ],
   "source": [
    "nltk.download('punkt')"
   ]
  },
  {
   "cell_type": "code",
   "execution_count": 3,
   "id": "defc49db-9a48-406a-8475-f39dc7cb45e9",
   "metadata": {},
   "outputs": [],
   "source": [
    "batch_size = 50\n",
    "batch_size_train = 50\n",
    "max_len = 28"
   ]
  },
  {
   "cell_type": "code",
   "execution_count": 4,
   "id": "464cbe86-45fd-4ed0-b23b-72814cddcae5",
   "metadata": {},
   "outputs": [],
   "source": [
    "#device = torch.device('cuda' if torch.cuda.is_available() else 'cpu')\n",
    "device = torch.device('cpu')"
   ]
  },
  {
   "cell_type": "markdown",
   "id": "1de6344f-b37f-4529-ad84-32aa4ece696e",
   "metadata": {},
   "source": [
    "### Import the preprocessed data"
   ]
  },
  {
   "cell_type": "code",
   "execution_count": 5,
   "id": "ddc0b0e1-c4a9-4705-acc0-82e78618a89d",
   "metadata": {},
   "outputs": [],
   "source": [
    "df_word_list = pd.read_csv('tweets_5000/vocab/word_list.csv')"
   ]
  },
  {
   "cell_type": "code",
   "execution_count": 6,
   "id": "d169a83b-78f0-4fbb-a13c-7456262ee051",
   "metadata": {},
   "outputs": [],
   "source": [
    "word_list = df_word_list.iloc[:,0].to_list()"
   ]
  },
  {
   "cell_type": "code",
   "execution_count": 7,
   "id": "3c278390-ee00-4418-8775-ec7d59ec6099",
   "metadata": {},
   "outputs": [],
   "source": [
    "vocab_count = Counter(word_list)"
   ]
  },
  {
   "cell_type": "code",
   "execution_count": 8,
   "id": "ec40592f-af33-4ecd-87c7-707c3fa065bf",
   "metadata": {},
   "outputs": [],
   "source": [
    "vocab = sorted(vocab_count,key=vocab_count.get,reverse=True)[:5000]"
   ]
  },
  {
   "cell_type": "code",
   "execution_count": 9,
   "id": "06666092-f0b2-42ab-a4c1-2600d1684d3c",
   "metadata": {},
   "outputs": [
    {
     "data": {
      "text/plain": [
       "12495"
      ]
     },
     "execution_count": 9,
     "metadata": {},
     "output_type": "execute_result"
    }
   ],
   "source": [
    "count_words = sorted(vocab_count.values(), reverse=True)\n",
    "len(count_words)"
   ]
  },
  {
   "cell_type": "code",
   "execution_count": 10,
   "id": "a84d30ca-e40f-4ab4-8b03-d7daf8fd01a9",
   "metadata": {},
   "outputs": [
    {
     "data": {
      "text/plain": [
       "5469"
      ]
     },
     "execution_count": 10,
     "metadata": {},
     "output_type": "execute_result"
    }
   ],
   "source": [
    "# words with more than one occurrence\n",
    "words_more_than_1 = list(filter(lambda x: x > 1, count_words))\n",
    "len(words_more_than_1)"
   ]
  },
  {
   "cell_type": "code",
   "execution_count": 11,
   "id": "7bd7bc44-bb4c-48b6-804e-6848b55fc5a7",
   "metadata": {},
   "outputs": [],
   "source": [
    "words_less_than_50 = list(filter(lambda x: x < 50, count_words))"
   ]
  },
  {
   "cell_type": "code",
   "execution_count": 12,
   "id": "15744e5e-029f-44f6-8557-79725776f204",
   "metadata": {},
   "outputs": [],
   "source": [
    "vocab_all = sorted(vocab_count,key=vocab_count.get,reverse=True)"
   ]
  },
  {
   "cell_type": "code",
   "execution_count": 13,
   "id": "c4c17571-ac18-46b3-a386-a91802fb0273",
   "metadata": {},
   "outputs": [
    {
     "data": {
      "image/png": "[encoded data removed]",
      "text/plain": [
       "<Figure size 640x480 with 1 Axes>"
      ]
     },
     "metadata": {},
     "output_type": "display_data"
    }
   ],
   "source": [
    "x = np.arange(1, len(vocab_all)+1)\n",
    "plt.hist(count_words, density=True, bins=1000)  # density=False would make counts\n",
    "plt.ylim(0, 0.0001)\n",
    "#plt.xlim(0, 10)\n",
    "plt.ylabel('Probability')\n",
    "plt.xlabel('Occurrence count');"
   ]
  },
  {
   "cell_type": "code",
   "execution_count": 14,
   "id": "3cbf987f-98cc-4ba6-843c-8fd63f046e19",
   "metadata": {},
   "outputs": [
    {
     "data": {
      "text/plain": [
       "array([    1,     2,     3, ..., 12493, 12494, 12495])"
      ]
     },
     "execution_count": 14,
     "metadata": {},
     "output_type": "execute_result"
    }
   ],
   "source": [
    "np.arange(1, len(vocab_all)+1)"
   ]
  },
  {
   "cell_type": "code",
   "execution_count": 15,
   "id": "75780b65-cfef-4dbd-882a-cfdcecd9a470",
   "metadata": {},
   "outputs": [],
   "source": [
    "vocab_dict = {w:i+1 for i,w in enumerate(vocab)}"
   ]
  },
  {
   "cell_type": "code",
   "execution_count": 16,
   "id": "130a1c8b-b908-46b3-93f7-b73bf89c40e8",
   "metadata": {},
   "outputs": [],
   "source": [
    "# Read the tokenized data (csv files) saved from data preprocessing step (vocabulary of 5000)"
   ]
  },
  {
   "cell_type": "code",
   "execution_count": 17,
   "id": "a158739e-eb92-419d-9eb9-9fa5ef4d6bda",
   "metadata": {},
   "outputs": [],
   "source": [
    "df_x_train_padded = pd.read_csv('tweets_5000/train/x_train_padded.csv')\n",
    "df_x_valid_padded = pd.read_csv('tweets_5000/valid/x_valid_padded.csv')\n",
    "df_X_test = pd.read_csv('tweets_5000/test/X_test.csv')\n",
    "df_y_test = pd.read_csv('tweets_5000/test/y_test.csv')\n",
    "df_y_train = pd.read_csv('tweets_5000/train/y_train.csv')\n",
    "df_y_valid = pd.read_csv('tweets_5000/valid/y_valid.csv')"
   ]
  },
  {
   "cell_type": "code",
   "execution_count": 18,
   "id": "feb82bb2-b37a-41c0-b57a-3ac24e9ac307",
   "metadata": {},
   "outputs": [
    {
     "data": {
      "text/html": [
       "<div>\n",
       "<style scoped>\n",
       "    .dataframe tbody tr th:only-of-type {\n",
       "        vertical-align: middle;\n",
       "    }\n",
       "\n",
       "    .dataframe tbody tr th {\n",
       "        vertical-align: top;\n",
       "    }\n",
       "\n",
       "    .dataframe thead th {\n",
       "        text-align: right;\n",
       "    }\n",
       "</style>\n",
       "<table border=\"1\" class=\"dataframe\">\n",
       "  <thead>\n",
       "    <tr style=\"text-align: right;\">\n",
       "      <th></th>\n",
       "      <th>0</th>\n",
       "      <th>1</th>\n",
       "      <th>2</th>\n",
       "      <th>3</th>\n",
       "      <th>4</th>\n",
       "      <th>5</th>\n",
       "      <th>6</th>\n",
       "      <th>7</th>\n",
       "      <th>8</th>\n",
       "      <th>9</th>\n",
       "      <th>...</th>\n",
       "      <th>18</th>\n",
       "      <th>19</th>\n",
       "      <th>20</th>\n",
       "      <th>21</th>\n",
       "      <th>22</th>\n",
       "      <th>23</th>\n",
       "      <th>24</th>\n",
       "      <th>25</th>\n",
       "      <th>26</th>\n",
       "      <th>27</th>\n",
       "    </tr>\n",
       "  </thead>\n",
       "  <tbody>\n",
       "    <tr>\n",
       "      <th>0</th>\n",
       "      <td>442</td>\n",
       "      <td>1053</td>\n",
       "      <td>461</td>\n",
       "      <td>511</td>\n",
       "      <td>559</td>\n",
       "      <td>35</td>\n",
       "      <td>1054</td>\n",
       "      <td>442</td>\n",
       "      <td>1</td>\n",
       "      <td>2</td>\n",
       "      <td>...</td>\n",
       "      <td>0</td>\n",
       "      <td>0</td>\n",
       "      <td>0</td>\n",
       "      <td>0</td>\n",
       "      <td>0</td>\n",
       "      <td>0</td>\n",
       "      <td>0</td>\n",
       "      <td>0</td>\n",
       "      <td>0</td>\n",
       "      <td>0</td>\n",
       "    </tr>\n",
       "    <tr>\n",
       "      <th>1</th>\n",
       "      <td>18</td>\n",
       "      <td>560</td>\n",
       "      <td>1</td>\n",
       "      <td>793</td>\n",
       "      <td>18</td>\n",
       "      <td>1803</td>\n",
       "      <td>561</td>\n",
       "      <td>1242</td>\n",
       "      <td>627</td>\n",
       "      <td>512</td>\n",
       "      <td>...</td>\n",
       "      <td>0</td>\n",
       "      <td>0</td>\n",
       "      <td>0</td>\n",
       "      <td>0</td>\n",
       "      <td>0</td>\n",
       "      <td>0</td>\n",
       "      <td>0</td>\n",
       "      <td>0</td>\n",
       "      <td>0</td>\n",
       "      <td>0</td>\n",
       "    </tr>\n",
       "    <tr>\n",
       "      <th>2</th>\n",
       "      <td>118</td>\n",
       "      <td>1</td>\n",
       "      <td>1243</td>\n",
       "      <td>1</td>\n",
       "      <td>53</td>\n",
       "      <td>1806</td>\n",
       "      <td>2649</td>\n",
       "      <td>118</td>\n",
       "      <td>30</td>\n",
       "      <td>513</td>\n",
       "      <td>...</td>\n",
       "      <td>0</td>\n",
       "      <td>0</td>\n",
       "      <td>0</td>\n",
       "      <td>0</td>\n",
       "      <td>0</td>\n",
       "      <td>0</td>\n",
       "      <td>0</td>\n",
       "      <td>0</td>\n",
       "      <td>0</td>\n",
       "      <td>0</td>\n",
       "    </tr>\n",
       "  </tbody>\n",
       "</table>\n",
       "<p>3 rows × 28 columns</p>\n",
       "</div>"
      ],
      "text/plain": [
       "     0     1     2    3    4     5     6     7    8    9  ...  18  19  20  21  \\\n",
       "0  442  1053   461  511  559    35  1054   442    1    2  ...   0   0   0   0   \n",
       "1   18   560     1  793   18  1803   561  1242  627  512  ...   0   0   0   0   \n",
       "2  118     1  1243    1   53  1806  2649   118   30  513  ...   0   0   0   0   \n",
       "\n",
       "   22  23  24  25  26  27  \n",
       "0   0   0   0   0   0   0  \n",
       "1   0   0   0   0   0   0  \n",
       "2   0   0   0   0   0   0  \n",
       "\n",
       "[3 rows x 28 columns]"
      ]
     },
     "execution_count": 18,
     "metadata": {},
     "output_type": "execute_result"
    }
   ],
   "source": [
    "df_x_train_padded.head(3)"
   ]
  },
  {
   "cell_type": "code",
   "execution_count": 19,
   "id": "5d8e05f1-e2ac-43dc-bcc8-441115d88dc8",
   "metadata": {},
   "outputs": [],
   "source": [
    "# convert dataframe  to numpy array\n",
    "x_train_padded = df_x_train_padded.to_numpy()\n",
    "x_valid_padded = df_x_valid_padded.to_numpy()\n",
    "X_test = df_X_test.to_numpy().squeeze()\n",
    "y_test = df_y_test.to_numpy().squeeze()\n",
    "y_train = df_y_train.to_numpy().squeeze()\n",
    "y_valid = df_y_valid.to_numpy().squeeze()"
   ]
  },
  {
   "cell_type": "markdown",
   "id": "308d2bf7-2c7e-4afd-9e6c-c43ebee66c45",
   "metadata": {},
   "source": [
    "### Create final dataset for training"
   ]
  },
  {
   "cell_type": "code",
   "execution_count": 20,
   "id": "dfe011fc-dc8d-4b89-bc9c-907141691030",
   "metadata": {},
   "outputs": [],
   "source": [
    "x_train_padded = np.array(x_train_padded)\n",
    "x_valid_padded = np.array(x_valid_padded)"
   ]
  },
  {
   "cell_type": "code",
   "execution_count": 21,
   "id": "51958821-f00d-436f-a3a4-a9991c32c2ec",
   "metadata": {},
   "outputs": [
    {
     "data": {
      "text/plain": [
       "5210"
      ]
     },
     "execution_count": 21,
     "metadata": {},
     "output_type": "execute_result"
    }
   ],
   "source": [
    "len(x_train_padded)"
   ]
  },
  {
   "cell_type": "code",
   "execution_count": 22,
   "id": "938ee003-33be-47c7-8ca1-6b09bf29a5dd",
   "metadata": {},
   "outputs": [
    {
     "data": {
      "text/plain": [
       "1737"
      ]
     },
     "execution_count": 22,
     "metadata": {},
     "output_type": "execute_result"
    }
   ],
   "source": [
    "len(x_valid_padded)"
   ]
  },
  {
   "cell_type": "code",
   "execution_count": 23,
   "id": "39529e89-dbe3-4b74-941a-82a31d027f60",
   "metadata": {},
   "outputs": [],
   "source": [
    "# Create tensor datasets\n",
    "train_data = TensorDataset(torch.from_numpy(x_train_padded), torch.from_numpy(y_train))\n",
    "valid_data = TensorDataset(torch.from_numpy(x_valid_padded), torch.from_numpy(y_valid))"
   ]
  },
  {
   "cell_type": "code",
   "execution_count": 24,
   "id": "70347212-9ae4-4e91-afe4-677838f35801",
   "metadata": {},
   "outputs": [],
   "source": [
    "# Set up dataloader with shuffle on\n",
    "train_dataloader = DataLoader(train_data, batch_size=batch_size, shuffle=True, drop_last=True)\n",
    "valid_dataloader = DataLoader(valid_data, batch_size=batch_size, shuffle=True, drop_last=True)"
   ]
  },
  {
   "cell_type": "code",
   "execution_count": 25,
   "id": "5b71fe37-11e2-4b1b-9961-f91991c719aa",
   "metadata": {},
   "outputs": [
    {
     "name": "stdout",
     "output_type": "stream",
     "text": [
      "Feature batch shape: torch.Size([50, 28])\n",
      "Labels batch shape: torch.Size([50])\n"
     ]
    }
   ],
   "source": [
    "# Display tweet and label.\n",
    "train_features, train_labels = next(iter(train_dataloader))\n",
    "print(f\"Feature batch shape: {train_features.size()}\")\n",
    "print(f\"Labels batch shape: {train_labels.size()}\")"
   ]
  },
  {
   "cell_type": "code",
   "execution_count": 26,
   "id": "b2200383-b3d0-4bbf-9ce0-2c72a4bb5952",
   "metadata": {},
   "outputs": [
    {
     "name": "stdout",
     "output_type": "stream",
     "text": [
      "Tweet: tensor([ 174,  743,    1,   10,  174, 4921, 2443, 4922,    1,    0,    0,    0,\n",
      "           0,    0,    0,    0,    0,    0,    0,    0,    0,    0,    0,    0,\n",
      "           0,    0,    0,    0])\n",
      "Label: 0\n"
     ]
    }
   ],
   "source": [
    "tweet_0 = train_features[0].squeeze()\n",
    "label_0 = train_labels[0]\n",
    "print(f\"Tweet: {tweet_0}\\nLabel: {label_0}\")"
   ]
  },
  {
   "cell_type": "markdown",
   "id": "3176a049-4588-4cfb-9cf2-fac0eff15599",
   "metadata": {},
   "source": [
    "### Prediction"
   ]
  },
  {
   "cell_type": "code",
   "execution_count": 27,
   "id": "162877a3-39c0-480c-94be-16ae59b54ad7",
   "metadata": {},
   "outputs": [],
   "source": [
    "class TweetLSTM(torch.nn.Module) :\n",
    "    def __init__(self, vocab_size, embedding_dim, hidden_dim, dropout) :\n",
    "        super().__init__()\n",
    "\n",
    "        # The embedding layer takes the vocab size and the embeddings size as input\n",
    "        # The embeddings size is up to you to decide, but common sizes are between 50 and 100.\n",
    "        self.embedding = nn.Embedding(vocab_size, embedding_dim, padding_idx=0)\n",
    "\n",
    "        # The LSTM layer takes in the the embedding size and the hidden vector size.\n",
    "        # The hidden dimension is up to you to decide, but common values are 32, 64, 128\n",
    "        self.lstm = nn.LSTM(embedding_dim, hidden_dim, batch_first=True)\n",
    "\n",
    "        # We use dropout before the final layer to improve with regularization\n",
    "        self.dropout = nn.Dropout(dropout)\n",
    "\n",
    "        # The fully-connected layer takes in the hidden dim of the LSTM and\n",
    "        #  outputs a 2x1 vector of the class scores.\n",
    "        self.fc = nn.Linear(hidden_dim, 2)\n",
    "\n",
    "    def forward(self, x, hidden):\n",
    "        \"\"\"\n",
    "        The forward method takes in the input and the previous hidden state \n",
    "        \"\"\"\n",
    "\n",
    "        # The input is transformed to embeddings by passing it to the embedding layer\n",
    "        embs = self.embedding(x)\n",
    "\n",
    "        # The embedded inputs are fed to the LSTM alongside the previous hidden state\n",
    "        out, hidden = self.lstm(embs, hidden)\n",
    "\n",
    "        # Dropout is applied to the output and fed to the FC layer\n",
    "        out = self.dropout(out)\n",
    "        out = self.fc(out)\n",
    "\n",
    "        # We extract the scores for the final hidden state since it is the one that matters.\n",
    "        out = out[:, -1]\n",
    "        return out, hidden\n",
    "    \n",
    "    def init_hidden(self, batch_size):\n",
    "        return (torch.zeros(1, batch_size, 32), torch.zeros(1, batch_size, 32))"
   ]
  },
  {
   "cell_type": "code",
   "execution_count": 28,
   "id": "fa610239-0649-4957-b727-03ad6fd150c9",
   "metadata": {},
   "outputs": [],
   "source": [
    "# vocabulary size = maximum integer index + 1\n",
    "vocab_size = len(vocab) + 1"
   ]
  },
  {
   "cell_type": "code",
   "execution_count": 29,
   "id": "75414803-ede3-4647-9383-3076610d0d66",
   "metadata": {},
   "outputs": [],
   "source": [
    "model = TweetLSTM(vocab_size, 64, 32, 0.2)\n",
    "model = model.to(device)"
   ]
  },
  {
   "cell_type": "code",
   "execution_count": 30,
   "id": "6a67e837-f8d9-41d4-8d65-741699059209",
   "metadata": {},
   "outputs": [],
   "source": [
    "lr = 3e-4\n",
    "criterion = nn.CrossEntropyLoss()\n",
    "optimizer = torch.optim.Adam(model.parameters(), lr = lr)"
   ]
  },
  {
   "cell_type": "code",
   "execution_count": 31,
   "id": "362eaa00-7342-41b7-b64c-434adfa4ed45",
   "metadata": {},
   "outputs": [],
   "source": [
    "epochs = 50\n",
    "losses = []\n",
    "for e in range(epochs):\n",
    "\n",
    "    h0, c0 =  model.init_hidden(batch_size_train)\n",
    "\n",
    "    h0 = h0.to(device)\n",
    "    c0 = c0.to(device)\n",
    "\n",
    "    for batch_idx, batch in enumerate(train_dataloader):\n",
    "\n",
    "        input = batch[0].to(device)\n",
    "        target = batch[1].to(device)\n",
    "\n",
    "        optimizer.zero_grad()\n",
    "        with torch.set_grad_enabled(True):\n",
    "            out, hidden = model(input, (h0, c0))\n",
    "            loss = criterion(out, target)\n",
    "            loss.backward()\n",
    "            optimizer.step()\n",
    "    losses.append(loss.item())"
   ]
  },
  {
   "cell_type": "code",
   "execution_count": 32,
   "id": "6365b0e3-ff47-416b-923d-af0cad216910",
   "metadata": {},
   "outputs": [
    {
     "data": {
      "text/plain": [
       "Text(0.5, 0, 'Epoch')"
      ]
     },
     "execution_count": 32,
     "metadata": {},
     "output_type": "execute_result"
    },
    {
     "data": {
      "image/png": "[encoded data removed]",
      "text/plain": [
       "<Figure size 640x480 with 1 Axes>"
      ]
     },
     "metadata": {},
     "output_type": "display_data"
    }
   ],
   "source": [
    "# This plot is just to see if the modeling is working (sanity check)\n",
    "plt.plot(losses)\n",
    "plt.title(\"Loss for training data set\", fontsize=13)\n",
    "plt.xlabel('Epoch')"
   ]
  },
  {
   "cell_type": "code",
   "execution_count": 33,
   "id": "f3d23732-8301-438a-8a5b-5c5680260239",
   "metadata": {},
   "outputs": [],
   "source": [
    "# function to predict accuracy. pred will have 0 or 1, where 0 is non-disaster.\n",
    "def acc(out,label):\n",
    "    _, pred = torch.max(out, 1)\n",
    "    return torch.sum(pred == label)"
   ]
  },
  {
   "cell_type": "code",
   "execution_count": 34,
   "id": "af9e0bb7-bc73-4b96-9e68-e7c1fd6cdccc",
   "metadata": {},
   "outputs": [],
   "source": [
    "model = TweetLSTM(vocab_size, 64, 32, 0.2)\n",
    "model = model.to(device)"
   ]
  },
  {
   "cell_type": "code",
   "execution_count": 35,
   "id": "e73eb0c3-1d1e-4103-af3b-5e4ff48cd9f5",
   "metadata": {},
   "outputs": [],
   "source": [
    "lr = 3e-4\n",
    "criterion = nn.CrossEntropyLoss()\n",
    "optimizer = torch.optim.Adam(model.parameters(), lr = lr)"
   ]
  },
  {
   "cell_type": "code",
   "execution_count": 36,
   "id": "98b1d862-61f1-41f6-9fda-eb668418736f",
   "metadata": {
    "scrolled": true
   },
   "outputs": [
    {
     "name": "stdout",
     "output_type": "stream",
     "text": [
      "Epoch 1\n",
      "train_loss : 0.6934061222351514 val_loss : 0.694890616571202\n",
      "train_accuracy : 50.94050216674805 val_accuracy : 46.28670120239258\n",
      "============================================================\n",
      "Epoch 2\n",
      "train_loss : 0.6931422071961256 val_loss : 0.6935228004175074\n",
      "train_accuracy : 50.19194030761719 val_accuracy : 46.11398696899414\n",
      "============================================================\n",
      "Epoch 3\n",
      "train_loss : 0.6928741696935433 val_loss : 0.6939357694457559\n",
      "train_accuracy : 50.63339614868164 val_accuracy : 46.056419372558594\n",
      "============================================================\n",
      "Epoch 4\n",
      "train_loss : 0.6693283399710288 val_loss : 0.6388373970985413\n",
      "train_accuracy : 60.97888946533203 val_accuracy : 63.557857513427734\n",
      "============================================================\n",
      "Epoch 5\n",
      "train_loss : 0.6249065341857764 val_loss : 0.6142552284633412\n",
      "train_accuracy : 66.62187957763672 val_accuracy : 65.80310821533203\n",
      "============================================================\n",
      "Epoch 6\n",
      "train_loss : 0.5895780356457601 val_loss : 0.5861039862913244\n",
      "train_accuracy : 69.30902099609375 val_accuracy : 68.27864074707031\n",
      "============================================================\n",
      "Epoch 7\n",
      "train_loss : 0.5439218612244496 val_loss : 0.5651027753072626\n",
      "train_accuracy : 73.85796356201172 val_accuracy : 69.25733947753906\n",
      "============================================================\n",
      "Epoch 8\n",
      "train_loss : 0.5125040833193523 val_loss : 0.5610989376026041\n",
      "train_accuracy : 76.06526184082031 val_accuracy : 69.77547454833984\n",
      "============================================================\n",
      "Epoch 9\n",
      "train_loss : 0.4755629464410819 val_loss : 0.5355809918221306\n",
      "train_accuracy : 78.77159118652344 val_accuracy : 72.0207290649414\n",
      "============================================================\n",
      "Epoch 10\n",
      "train_loss : 0.45111187117604107 val_loss : 0.5374147278421065\n",
      "train_accuracy : 80.26871490478516 val_accuracy : 72.42372131347656\n",
      "============================================================\n",
      "Epoch 11\n",
      "train_loss : 0.42994451551483226 val_loss : 0.5362623745904249\n",
      "train_accuracy : 81.34356689453125 val_accuracy : 72.7115707397461\n",
      "============================================================\n",
      "Epoch 12\n",
      "train_loss : 0.40694031735452324 val_loss : 0.5177220702171326\n",
      "train_accuracy : 82.6679458618164 val_accuracy : 73.57512664794922\n",
      "============================================================\n",
      "Epoch 13\n",
      "train_loss : 0.38553503872110295 val_loss : 0.5374154974432552\n",
      "train_accuracy : 83.99231719970703 val_accuracy : 73.80541229248047\n",
      "============================================================\n",
      "Epoch 14\n",
      "train_loss : 0.36825607760021317 val_loss : 0.5611614400849623\n",
      "train_accuracy : 84.99040222167969 val_accuracy : 73.40242004394531\n",
      "============================================================\n",
      "Epoch 15\n",
      "train_loss : 0.3562475017343576 val_loss : 0.5387047222431969\n",
      "train_accuracy : 85.93090057373047 val_accuracy : 73.86298370361328\n",
      "============================================================\n",
      "Epoch 16\n",
      "train_loss : 0.3332397308773719 val_loss : 0.553285119288108\n",
      "train_accuracy : 87.17850494384766 val_accuracy : 73.74784088134766\n",
      "============================================================\n",
      "Epoch 17\n",
      "train_loss : 0.3159039221847287 val_loss : 0.5614796841845793\n",
      "train_accuracy : 88.11900329589844 val_accuracy : 74.5538330078125\n",
      "============================================================\n",
      "Epoch 18\n",
      "train_loss : 0.303749466744753 val_loss : 0.577434719485395\n",
      "train_accuracy : 89.13627624511719 val_accuracy : 74.61140441894531\n",
      "============================================================\n",
      "Epoch 19\n",
      "train_loss : 0.29045885973251784 val_loss : 0.5778368010240442\n",
      "train_accuracy : 89.78886413574219 val_accuracy : 73.51756286621094\n",
      "============================================================\n",
      "Epoch 20\n",
      "train_loss : 0.2719092692176883 val_loss : 0.6068736735512229\n",
      "train_accuracy : 90.47984313964844 val_accuracy : 73.9205551147461\n",
      "============================================================\n",
      "Epoch 21\n",
      "train_loss : 0.2708235985527818 val_loss : 0.610428058925797\n",
      "train_accuracy : 90.84452819824219 val_accuracy : 73.74784088134766\n",
      "============================================================\n",
      "Epoch 22\n",
      "train_loss : 0.2538130654451939 val_loss : 0.602559342103846\n",
      "train_accuracy : 91.51631927490234 val_accuracy : 74.5538330078125\n",
      "============================================================\n",
      "Epoch 23\n",
      "train_loss : 0.2476844688734183 val_loss : 0.5979251221698874\n",
      "train_accuracy : 91.82341766357422 val_accuracy : 74.89925384521484\n",
      "============================================================\n",
      "Epoch 24\n",
      "train_loss : 0.23813103024776167 val_loss : 0.6220710856073043\n",
      "train_accuracy : 92.2072982788086 val_accuracy : 75.35981750488281\n",
      "============================================================\n",
      "Epoch 25\n",
      "train_loss : 0.22925292062931335 val_loss : 0.6325174149344949\n",
      "train_accuracy : 92.87908172607422 val_accuracy : 75.70523834228516\n",
      "============================================================\n",
      "Epoch 26\n",
      "train_loss : 0.22569728936426914 val_loss : 0.6753021943218568\n",
      "train_accuracy : 92.78311157226562 val_accuracy : 74.89925384521484\n",
      "============================================================\n",
      "Epoch 27\n",
      "train_loss : 0.22036241417607436 val_loss : 0.6396095673827564\n",
      "train_accuracy : 93.1861801147461 val_accuracy : 75.24467468261719\n",
      "============================================================\n",
      "Epoch 28\n",
      "train_loss : 0.21038524269197995 val_loss : 0.6574286967515945\n",
      "train_accuracy : 93.60844421386719 val_accuracy : 75.12953186035156\n",
      "============================================================\n",
      "Epoch 29\n",
      "train_loss : 0.20743590575427964 val_loss : 0.687732054906733\n",
      "train_accuracy : 93.58924865722656 val_accuracy : 74.95682525634766\n",
      "============================================================\n",
      "Epoch 30\n",
      "train_loss : 0.20409843884408474 val_loss : 0.7016251972493004\n",
      "train_accuracy : 93.3973159790039 val_accuracy : 75.18710327148438\n",
      "============================================================\n",
      "Epoch 31\n",
      "train_loss : 0.20203721516120893 val_loss : 0.6764123220654095\n",
      "train_accuracy : 93.70441436767578 val_accuracy : 75.64766693115234\n",
      "============================================================\n",
      "Epoch 32\n",
      "train_loss : 0.19379586511506483 val_loss : 0.6683049701592502\n",
      "train_accuracy : 94.01151275634766 val_accuracy : 75.76280975341797\n",
      "============================================================\n",
      "Epoch 33\n",
      "train_loss : 0.19066868930195385 val_loss : 0.691759689765818\n",
      "train_accuracy : 94.12667846679688 val_accuracy : 74.6689682006836\n",
      "============================================================\n",
      "Epoch 34\n",
      "train_loss : 0.1842743968949295 val_loss : 0.6824756939621532\n",
      "train_accuracy : 94.47216796875 val_accuracy : 75.93551635742188\n",
      "============================================================\n",
      "Epoch 35\n",
      "train_loss : 0.18070918841000932 val_loss : 0.7089758567950305\n",
      "train_accuracy : 94.58733367919922 val_accuracy : 75.70523834228516\n",
      "============================================================\n",
      "Epoch 36\n",
      "train_loss : 0.18236098553125674 val_loss : 0.7290553678484524\n",
      "train_accuracy : 94.7024917602539 val_accuracy : 75.70523834228516\n",
      "============================================================\n",
      "Epoch 37\n",
      "train_loss : 0.17798567839110127 val_loss : 0.6835092612925697\n",
      "train_accuracy : 94.66410827636719 val_accuracy : 75.93551635742188\n",
      "============================================================\n",
      "Epoch 38\n",
      "train_loss : 0.17397464539569157 val_loss : 0.7233796943636501\n",
      "train_accuracy : 94.7792739868164 val_accuracy : 76.10823822021484\n",
      "============================================================\n",
      "Epoch 39\n",
      "train_loss : 0.17514406624608314 val_loss : 0.7196042905835545\n",
      "train_accuracy : 94.64491271972656 val_accuracy : 75.01439666748047\n",
      "============================================================\n",
      "Epoch 40\n",
      "train_loss : 0.1745958924293518 val_loss : 0.7214597507434732\n",
      "train_accuracy : 94.72168731689453 val_accuracy : 75.07196044921875\n",
      "============================================================\n",
      "Epoch 41\n",
      "train_loss : 0.17034834884823516 val_loss : 0.6984032366205665\n",
      "train_accuracy : 94.74088287353516 val_accuracy : 74.95682525634766\n",
      "============================================================\n",
      "Epoch 42\n",
      "train_loss : 0.16331030861832774 val_loss : 0.7726411810692619\n",
      "train_accuracy : 95.08637237548828 val_accuracy : 74.78411102294922\n",
      "============================================================\n",
      "Epoch 43\n",
      "train_loss : 0.16638853852278912 val_loss : 0.7343984947485083\n",
      "train_accuracy : 95.1055679321289 val_accuracy : 74.5538330078125\n",
      "============================================================\n",
      "Epoch 44\n",
      "train_loss : 0.15618101711599872 val_loss : 0.7589915964533301\n",
      "train_accuracy : 95.18234252929688 val_accuracy : 75.93551635742188\n",
      "============================================================\n",
      "Epoch 45\n",
      "train_loss : 0.15758239331010443 val_loss : 0.733965780805139\n",
      "train_accuracy : 95.50863647460938 val_accuracy : 74.8416748046875\n",
      "============================================================\n",
      "Epoch 46\n",
      "train_loss : 0.15632087744485873 val_loss : 0.7546632289886475\n",
      "train_accuracy : 95.29750061035156 val_accuracy : 75.41738891601562\n",
      "============================================================\n",
      "Epoch 47\n",
      "train_loss : 0.15463537701333946 val_loss : 0.7760263146723018\n",
      "train_accuracy : 95.54702758789062 val_accuracy : 75.12953186035156\n",
      "============================================================\n",
      "Epoch 48\n",
      "train_loss : 0.15382363006042746 val_loss : 0.7349221697624992\n",
      "train_accuracy : 95.45105743408203 val_accuracy : 75.82038116455078\n",
      "============================================================\n",
      "Epoch 49\n",
      "train_loss : 0.16126017859922007 val_loss : 0.730841198388268\n",
      "train_accuracy : 95.25911712646484 val_accuracy : 74.95682525634766\n",
      "============================================================\n",
      "Epoch 50\n",
      "train_loss : 0.15164318275996125 val_loss : 0.7467387888361426\n",
      "train_accuracy : 95.45105743408203 val_accuracy : 75.47496032714844\n",
      "============================================================\n"
     ]
    }
   ],
   "source": [
    "clip = 5\n",
    "epochs = 50\n",
    "valid_loss_min = np.inf\n",
    "# train for some number of epochs\n",
    "epoch_tr_loss, epoch_vl_loss = [],[]\n",
    "epoch_tr_acc, epoch_vl_acc = [],[]\n",
    "\n",
    "for epoch in range(epochs):\n",
    "    train_losses = []\n",
    "    train_acc = 0.0\n",
    "    model.train()\n",
    "    # initialize hidden state\n",
    "    h = model.init_hidden(batch_size)\n",
    "    for inputs, labels in train_dataloader:\n",
    "       \n",
    "        inputs, labels = inputs.to(device), labels.to(device)  \n",
    "        # Get a new copy of initialized h, leaving the original h unchanged.\n",
    "        h = tuple([x.data for x in h])\n",
    "       \n",
    "        model.zero_grad()\n",
    "        output, h = model(inputs, h)\n",
    "        # calculate the loss and perform backpropagation\n",
    "        loss = criterion(output, labels)\n",
    "        loss.backward()\n",
    "        train_losses.append(loss.item())\n",
    "        # calculating accuracy\n",
    "        accuracy = acc(output,labels)\n",
    "        train_acc += accuracy\n",
    "        # clip helps prevent the exploding gradient problem in LSTM.\n",
    "        nn.utils.clip_grad_norm_(model.parameters(), clip)\n",
    "        optimizer.step()\n",
    "\n",
    "    # Evaluate the model with x_valid data set\n",
    "    val_h = model.init_hidden(batch_size)\n",
    "    val_losses = []\n",
    "    val_acc = 0.0\n",
    "    model.eval()\n",
    "    for inputs, labels in valid_dataloader:\n",
    "            val_h = tuple([each.data for each in val_h])\n",
    "            inputs, labels = inputs.to(device), labels.to(device)\n",
    "            output, val_h = model(inputs, val_h)\n",
    "            val_loss = criterion(output, labels)\n",
    "            val_losses.append(val_loss.item())           \n",
    "            accuracy = acc(output,labels)\n",
    "            val_acc += accuracy\n",
    "           \n",
    "    epoch_train_loss = np.mean(train_losses)\n",
    "    epoch_val_loss = np.mean(val_losses)\n",
    "    epoch_train_acc = train_acc/len(train_dataloader.dataset)\n",
    "    epoch_val_acc = val_acc/len(valid_dataloader.dataset)\n",
    "    epoch_tr_loss.append(epoch_train_loss)\n",
    "    epoch_vl_loss.append(epoch_val_loss)\n",
    "    epoch_tr_acc.append(epoch_train_acc)\n",
    "    epoch_vl_acc.append(epoch_val_acc)\n",
    "    print(f'Epoch {epoch+1}')\n",
    "    print(f'train_loss : {epoch_train_loss} val_loss : {epoch_val_loss}')\n",
    "    print(f'train_accuracy : {epoch_train_acc*100} val_accuracy : {epoch_val_acc*100}')\n",
    "    print(30 * '==')"
   ]
  },
  {
   "cell_type": "markdown",
   "id": "345b48f6-36b2-4991-968b-613528613775",
   "metadata": {},
   "source": [
    "### Model evaluation"
   ]
  },
  {
   "cell_type": "code",
   "execution_count": 37,
   "id": "280b3f56-b074-4467-ace2-3c9318695cea",
   "metadata": {},
   "outputs": [
    {
     "data": {
      "image/png": "[encoded data removed]",
      "text/plain": [
       "<Figure size 1500x500 with 2 Axes>"
      ]
     },
     "metadata": {},
     "output_type": "display_data"
    }
   ],
   "source": [
    "fig = plt.figure(figsize = (15, 5))\n",
    "plt.subplot(1, 2, 1)\n",
    "plt.plot(epoch_tr_acc, label='Train Acc')\n",
    "plt.plot(epoch_vl_acc, label='Validation Acc')\n",
    "plt.title(\"Accuracy\", fontsize=15)\n",
    "plt.xlabel('Epoch')\n",
    "plt.legend()\n",
    "plt.grid()\n",
    "   \n",
    "plt.subplot(1, 2, 2)\n",
    "plt.plot(epoch_tr_loss, label='Train loss')\n",
    "plt.plot(epoch_vl_loss, label='Validation loss')\n",
    "plt.title(\"Loss\", fontsize=15)\n",
    "plt.xlabel('Epoch')\n",
    "plt.legend()\n",
    "plt.grid()\n",
    "\n",
    "plt.show()"
   ]
  },
  {
   "cell_type": "markdown",
   "id": "5bbc0f83-4daf-42b3-a550-ddf116cbbcc6",
   "metadata": {},
   "source": [
    "### Inference / Prediction"
   ]
  },
  {
   "cell_type": "markdown",
   "id": "86ff3ce4-e720-48d7-b4c7-f1baf00abda7",
   "metadata": {},
   "source": [
    "For inference, a single tweet will be tested each time."
   ]
  },
  {
   "cell_type": "code",
   "execution_count": 38,
   "id": "1b65c64a-18c1-4577-ad2c-48fd1fdbadd4",
   "metadata": {},
   "outputs": [],
   "source": [
    "# Here the argument \"tokenized_tweet\" is a tokenized tweet without stop words.\n",
    "def padded_vector(tokenized_tweet, vocab_dict, max_len):\n",
    "    int_tweet = []\n",
    "    for word in tokenized_tweet:\n",
    "        if word in vocab_dict:\n",
    "            int_tweet.append(vocab_dict[word])  \n",
    "\n",
    "    padded_vector = int_tweet + [0] * max(0, max_len - len(int_tweet))\n",
    "    return padded_vector"
   ]
  },
  {
   "cell_type": "code",
   "execution_count": 39,
   "id": "73c74b5b-c501-4d81-aa2b-e26dcf05fd35",
   "metadata": {},
   "outputs": [],
   "source": [
    "# Here the argument tweet is the raw text data.\n",
    "def create_padded_tokens(tweet):\n",
    "    tweet = re.sub(r'[,!?;-]', '.', tweet) #  Punctuations are replaced by \".\"\n",
    "    #tweet_lowered = tweet.lower()\n",
    "    tokenized_tweet = nltk.word_tokenize(tweet) \n",
    "    #  Lower case and drop non-alphabetical tokens\n",
    "    tokenized_tweet = [ch.lower() for ch in tokenized_tweet if ch.isalpha() or ch == '.']  \n",
    "    english_stopwords = stopwords.words('english')\n",
    "    tokens_wo_stopwords = [t for t in tokenized_tweet if t not in english_stopwords]\n",
    "    tokens_padded = np.array(padded_vector(tokens_wo_stopwords, vocab_dict, max_len))\n",
    "    tokens_padded = np.expand_dims(tokens_padded, axis=0) # To change 2-d array to 3-d to use in model(inputs, h).\n",
    "\n",
    "    return tokens_padded"
   ]
  },
  {
   "cell_type": "code",
   "execution_count": 40,
   "id": "5135fcf9-b6a3-4a9a-a1d4-21a889213175",
   "metadata": {},
   "outputs": [],
   "source": [
    "# predict one tweet at a time. (batch_size is set at 1.)\n",
    "def predict_tweet(tokens_padded):\n",
    "    pad =  torch.from_numpy(tokens_padded) \n",
    "    inputs = pad.to(device)\n",
    "    # a single tweet will be tested.\n",
    "    batch_size = 1\n",
    "    h = model.init_hidden(batch_size)\n",
    "    h = tuple([each.data for each in h])\n",
    "    output, h = model(inputs, h)\n",
    "    out = nn.Sigmoid()(output[0][1])\n",
    "    return(out.item())   "
   ]
  },
  {
   "cell_type": "code",
   "execution_count": 41,
   "id": "25c60220-dbc9-441d-bf0a-6e54ad826940",
   "metadata": {},
   "outputs": [
    {
     "name": "stdout",
     "output_type": "stream",
     "text": [
      "seismic NA #Sismo DETECTADO #JapÌ_n [Report 3] 01:02:17 Okinawa Island region M3.8 Depth 10km Maximum seismic intensity 3 JST #??\n",
      "======================================================================\n",
      "Actual target is  : 1\n",
      "======================================================================\n",
      "Predicted sentiment is Disaster with a probability of 0.9413011074066162\n"
     ]
    }
   ],
   "source": [
    "index = 525\n",
    "print(X_test[index])\n",
    "print('='*70)\n",
    "print(f'Actual target is  : {y_test[index]}')\n",
    "print('='*70)\n",
    "tokens_padded = create_padded_tokens(X_test[index])\n",
    "prob = predict_tweet(tokens_padded)\n",
    "status = \"Disaster\" if prob > 0.5 else \"Non-disaster\"\n",
    "prob = (1 - prob) if status == \"Non-disaster\" else prob\n",
    "print(f'Predicted sentiment is {status} with a probability of {prob}')"
   ]
  },
  {
   "cell_type": "markdown",
   "id": "994d613d-397e-4998-a00c-bab57e7bf051",
   "metadata": {},
   "source": [
    "### Test accuracy "
   ]
  },
  {
   "cell_type": "code",
   "execution_count": 42,
   "id": "addea64e-37bc-44d7-85b5-0f48cf84eab7",
   "metadata": {},
   "outputs": [
    {
     "data": {
      "text/plain": [
       "1737"
      ]
     },
     "execution_count": 42,
     "metadata": {},
     "output_type": "execute_result"
    }
   ],
   "source": [
    "len(X_test)"
   ]
  },
  {
   "cell_type": "code",
   "execution_count": 43,
   "id": "0ff541d2-edbc-45c4-8928-de8e72511a24",
   "metadata": {},
   "outputs": [
    {
     "name": "stdout",
     "output_type": "stream",
     "text": [
      "tensor(0.7611)\n"
     ]
    }
   ],
   "source": [
    "batch_size_test = 1\n",
    "all_batches_acc = []\n",
    "for idx in range(len(X_test)):\n",
    "    batch_acc = []\n",
    "\n",
    "    tweet = X_test[idx]\n",
    "    tokens_padded = create_padded_tokens(tweet)\n",
    "    prob = torch.tensor(predict_tweet(tokens_padded))\n",
    "    pred = torch.round(prob)\n",
    "    target = y_test[idx]\n",
    "    batch_acc.append(pred == target)\n",
    "        \n",
    "    all_batches_acc.extend(batch_acc) \n",
    "    \n",
    "print(sum(all_batches_acc)/len(X_test))   "
   ]
  },
  {
   "cell_type": "code",
   "execution_count": null,
   "id": "ecb3f90c-1a5c-4d34-a380-6a9c07e3401f",
   "metadata": {},
   "outputs": [],
   "source": []
  },
  {
   "cell_type": "code",
   "execution_count": null,
   "id": "468b71aa-bccd-43e1-a47c-433c29bcba6b",
   "metadata": {},
   "outputs": [],
   "source": []
  }
 ],
 "metadata": {
  "kernelspec": {
   "display_name": "skorch-310",
   "language": "python",
   "name": "skorch-310"
  },
  "language_info": {
   "codemirror_mode": {
    "name": "ipython",
    "version": 3
   },
   "file_extension": ".py",
   "mimetype": "text/x-python",
   "name": "python",
   "nbconvert_exporter": "python",
   "pygments_lexer": "ipython3",
   "version": "3.10.16"
  }
 },
 "nbformat": 4,
 "nbformat_minor": 5
}
